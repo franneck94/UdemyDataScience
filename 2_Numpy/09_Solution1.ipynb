{
 "cells": [
  {
   "cell_type": "code",
   "execution_count": null,
   "metadata": {},
   "outputs": [],
   "source": [
    "import numpy as np"
   ]
  },
  {
   "cell_type": "markdown",
   "metadata": {},
   "source": [
    "# Exercise\n"
   ]
  },
  {
   "cell_type": "code",
   "execution_count": 1,
   "metadata": {},
   "outputs": [],
   "source": [
    "np.random.seed(0)"
   ]
  },
  {
   "cell_type": "code",
   "execution_count": 2,
   "metadata": {},
   "outputs": [],
   "source": [
    "def array_info(array: np.ndarray) -> None:\n",
    "    print(f\"ndim: {array.ndim}\")\n",
    "    print(f\"shape: {array.shape}\")\n",
    "    print(f\"size: {array.size}\")\n",
    "    print(f\"dtype: {array.dtype}\")\n",
    "    print(f\"values:\\n{array}\\n\")"
   ]
  },
  {
   "cell_type": "markdown",
   "metadata": {},
   "source": [
    "# Exercise 1\n",
    "\n",
    "-   Create an array (M) with the size 5x5 by sampling from an uniform int distribution $M_{i,j} \\in [-10, 10]$\n"
   ]
  },
  {
   "cell_type": "code",
   "execution_count": 3,
   "metadata": {},
   "outputs": [],
   "source": [
    "M = np.random.randint(\n",
    "    low=-10,\n",
    "    high=11,\n",
    "    size=(5, 5),\n",
    ")"
   ]
  },
  {
   "cell_type": "code",
   "execution_count": 4,
   "metadata": {},
   "outputs": [
    {
     "name": "stdout",
     "output_type": "stream",
     "text": [
      "ndim: 2\n",
      "shape: (5, 5)\n",
      "size: 25\n",
      "dtype: int32\n",
      "values:\n",
      "[[  2   5 -10  -7  -7]\n",
      " [ -3  -1   9   8  -6]\n",
      " [ -4   2  -9  -4  -3]\n",
      " [  4   7  -5   3  -2]\n",
      " [ -1  10   9   6   9]]\n",
      "\n"
     ]
    }
   ],
   "source": [
    "array_info(M)"
   ]
  },
  {
   "cell_type": "markdown",
   "metadata": {},
   "source": [
    "# Exercise 2\n",
    "\n",
    "-   Create an array (N) with the size 5x5 by sampling from an uniform float distribution $M_{i,j} \\in [-10, 10)$\n"
   ]
  },
  {
   "cell_type": "code",
   "execution_count": 5,
   "metadata": {},
   "outputs": [],
   "source": [
    "N = np.random.uniform(\n",
    "    low=-10,\n",
    "    high=10,\n",
    "    size=(5, 5),\n",
    ")"
   ]
  },
  {
   "cell_type": "code",
   "execution_count": 6,
   "metadata": {},
   "outputs": [
    {
     "name": "stdout",
     "output_type": "stream",
     "text": [
      "ndim: 2\n",
      "shape: (5, 5)\n",
      "size: 25\n",
      "dtype: float64\n",
      "values:\n",
      "[[ 9.14310318 -7.19298439  7.40174517 -0.52783909  6.01821504]\n",
      " [ 0.40954959  3.5775906   4.41265309  1.64039584  0.74746459]\n",
      " [ 5.17231249 -7.88184786 -0.52799161 -6.27335313  4.73836354]\n",
      " [-5.66899291 -7.29563653 -3.51717984 -7.00650266 -5.55357223]\n",
      " [-2.27022038  8.05196951 -1.0010002   2.26126916  8.04697166]]\n",
      "\n"
     ]
    }
   ],
   "source": [
    "array_info(N)"
   ]
  },
  {
   "cell_type": "markdown",
   "metadata": {},
   "source": [
    "# Exercise 3\n",
    "\n",
    "-   Count the number of elements of the matrix M and N where the elements are less than 0\n"
   ]
  },
  {
   "cell_type": "code",
   "execution_count": 7,
   "metadata": {},
   "outputs": [],
   "source": [
    "M_idxs = np.count_nonzero(M < 0)\n",
    "N_idxs = np.count_nonzero(N < 0)"
   ]
  },
  {
   "cell_type": "code",
   "execution_count": 8,
   "metadata": {},
   "outputs": [
    {
     "name": "stdout",
     "output_type": "stream",
     "text": [
      "13\n",
      "12\n"
     ]
    }
   ],
   "source": [
    "print(M_idxs)\n",
    "print(N_idxs)"
   ]
  },
  {
   "cell_type": "markdown",
   "metadata": {},
   "source": [
    "# Exercise 4\n",
    "\n",
    "-   Replace all values of the matrix M and N that are less than 0 by 0\n"
   ]
  },
  {
   "cell_type": "code",
   "execution_count": 9,
   "metadata": {},
   "outputs": [],
   "source": [
    "M[M < 0] = 0\n",
    "N[N < 0] = 0"
   ]
  },
  {
   "cell_type": "code",
   "execution_count": 10,
   "metadata": {},
   "outputs": [
    {
     "name": "stdout",
     "output_type": "stream",
     "text": [
      "ndim: 2\n",
      "shape: (5, 5)\n",
      "size: 25\n",
      "dtype: int32\n",
      "values:\n",
      "[[ 2  5  0  0  0]\n",
      " [ 0  0  9  8  0]\n",
      " [ 0  2  0  0  0]\n",
      " [ 4  7  0  3  0]\n",
      " [ 0 10  9  6  9]]\n",
      "\n",
      "ndim: 2\n",
      "shape: (5, 5)\n",
      "size: 25\n",
      "dtype: float64\n",
      "values:\n",
      "[[9.14310318 0.         7.40174517 0.         6.01821504]\n",
      " [0.40954959 3.5775906  4.41265309 1.64039584 0.74746459]\n",
      " [5.17231249 0.         0.         0.         4.73836354]\n",
      " [0.         0.         0.         0.         0.        ]\n",
      " [0.         8.05196951 0.         2.26126916 8.04697166]]\n",
      "\n"
     ]
    }
   ],
   "source": [
    "array_info(M)\n",
    "array_info(N)"
   ]
  },
  {
   "cell_type": "markdown",
   "metadata": {},
   "source": [
    "# Exercise 5\n",
    "\n",
    "-   Stack the matrix M and N on the axis=0 to a new matrix O\n"
   ]
  },
  {
   "cell_type": "code",
   "execution_count": 11,
   "metadata": {},
   "outputs": [],
   "source": [
    "O = np.concatenate(\n",
    "    [M, N],\n",
    "    axis=0,\n",
    ")"
   ]
  },
  {
   "cell_type": "code",
   "execution_count": 12,
   "metadata": {},
   "outputs": [
    {
     "name": "stdout",
     "output_type": "stream",
     "text": [
      "ndim: 2\n",
      "shape: (10, 5)\n",
      "size: 50\n",
      "dtype: float64\n",
      "values:\n",
      "[[ 2.          5.          0.          0.          0.        ]\n",
      " [ 0.          0.          9.          8.          0.        ]\n",
      " [ 0.          2.          0.          0.          0.        ]\n",
      " [ 4.          7.          0.          3.          0.        ]\n",
      " [ 0.         10.          9.          6.          9.        ]\n",
      " [ 9.14310318  0.          7.40174517  0.          6.01821504]\n",
      " [ 0.40954959  3.5775906   4.41265309  1.64039584  0.74746459]\n",
      " [ 5.17231249  0.          0.          0.          4.73836354]\n",
      " [ 0.          0.          0.          0.          0.        ]\n",
      " [ 0.          8.05196951  0.          2.26126916  8.04697166]]\n",
      "\n"
     ]
    }
   ],
   "source": [
    "array_info(O)"
   ]
  },
  {
   "cell_type": "markdown",
   "metadata": {},
   "source": [
    "# Exercise 6\n",
    "\n",
    "-   Multiply the matrix O by np.pi\n",
    "-   Compute the cos for each value of the matrix O\n"
   ]
  },
  {
   "cell_type": "code",
   "execution_count": 13,
   "metadata": {},
   "outputs": [],
   "source": [
    "O *= np.pi"
   ]
  },
  {
   "cell_type": "code",
   "execution_count": 14,
   "metadata": {},
   "outputs": [
    {
     "name": "stdout",
     "output_type": "stream",
     "text": [
      "ndim: 2\n",
      "shape: (10, 5)\n",
      "size: 50\n",
      "dtype: float64\n",
      "values:\n",
      "[[ 6.28318531 15.70796327  0.          0.          0.        ]\n",
      " [ 0.          0.         28.27433388 25.13274123  0.        ]\n",
      " [ 0.          6.28318531  0.          0.          0.        ]\n",
      " [12.56637061 21.99114858  0.          9.42477796  0.        ]\n",
      " [ 0.         31.41592654 28.27433388 18.84955592 28.27433388]\n",
      " [28.72390578  0.         23.25326824  0.         18.90678016]\n",
      " [ 1.28663799 11.23933235 13.86275854  5.15345552  2.34822926]\n",
      " [16.24929891  0.          0.          0.         14.8860081 ]\n",
      " [ 0.          0.          0.          0.          0.        ]\n",
      " [ 0.         25.29600826  0.          7.10398657 25.28030706]]\n",
      "\n"
     ]
    }
   ],
   "source": [
    "array_info(O)"
   ]
  },
  {
   "cell_type": "code",
   "execution_count": 15,
   "metadata": {},
   "outputs": [],
   "source": [
    "O = np.cos(O)"
   ]
  },
  {
   "cell_type": "code",
   "execution_count": 16,
   "metadata": {},
   "outputs": [
    {
     "name": "stdout",
     "output_type": "stream",
     "text": [
      "ndim: 2\n",
      "shape: (10, 5)\n",
      "size: 50\n",
      "dtype: float64\n",
      "values:\n",
      "[[ 1.         -1.          1.          1.          1.        ]\n",
      " [ 1.          1.         -1.          1.          1.        ]\n",
      " [ 1.          1.          1.          1.          1.        ]\n",
      " [ 1.         -1.          1.         -1.          1.        ]\n",
      " [ 1.          1.         -1.          1.         -1.        ]\n",
      " [-0.90063323  1.         -0.30379811  1.          0.99836314]\n",
      " [ 0.28034964  0.24135129  0.27097752  0.42690418 -0.70145214]\n",
      " [-0.85702122  1.          1.          1.         -0.68079039]\n",
      " [ 1.          1.          1.          1.          1.        ]\n",
      " [ 1.          0.98670152  1.          0.68163515  0.98913191]]\n",
      "\n"
     ]
    }
   ],
   "source": [
    "array_info(O)"
   ]
  }
 ],
 "metadata": {
  "kernelspec": {
   "display_name": "pyData",
   "language": "python",
   "name": "python3"
  },
  "language_info": {
   "codemirror_mode": {
    "name": "ipython",
    "version": 3
   },
   "file_extension": ".py",
   "mimetype": "text/x-python",
   "name": "python",
   "nbconvert_exporter": "python",
   "pygments_lexer": "ipython3",
   "version": "3.10.4"
  },
  "metadata": {
   "interpreter": {
    "hash": "423c48e3256333a0e0252f1efeec30283ab6ba0213e3a05c32b0541c29f89950"
   }
  },
  "orig_nbformat": 2,
  "vscode": {
   "interpreter": {
    "hash": "f7005c152070cabaaf593843feaa8c4a4a04ad569523413e5d5955ceb49c894d"
   }
  }
 },
 "nbformat": 4,
 "nbformat_minor": 2
}
