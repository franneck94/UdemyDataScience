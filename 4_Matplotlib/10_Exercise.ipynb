{
 "cells": [
  {
   "cell_type": "markdown",
   "metadata": {},
   "source": [
    "# Exercise"
   ]
  },
  {
   "cell_type": "code",
   "execution_count": 1,
   "metadata": {},
   "outputs": [],
   "source": [
    "import numpy as np\n",
    "\n",
    "\n",
    "np.random.seed(0)\n",
    "import matplotlib.pyplot as plt\n",
    "import pandas as pd\n",
    "import seaborn as sns"
   ]
  },
  {
   "cell_type": "code",
   "execution_count": 2,
   "metadata": {},
   "outputs": [],
   "source": [
    "def array_info(array: np.ndarray) -> None:\n",
    "    print(f\"ndim: {array.ndim}\")\n",
    "    print(f\"shape: {array.shape}\")\n",
    "    print(f\"size: {array.size}\")\n",
    "    print(f\"dtype: {array.dtype}\")\n",
    "    print(f\"values:\\n{array}\\n\")"
   ]
  },
  {
   "cell_type": "markdown",
   "metadata": {},
   "source": [
    "# Exercise 1\n",
    "\n",
    "- Generate a feature dataset (x) of 100 samples with 2 features by sampling from a multivariate normal distribution.  \n",
    "    - With a mean of $\\mu = (-5, 5)^T$  \n",
    "    - With a covariance matrix of $C = \\begin{pmatrix}\n",
    "1 & 0\\\\\n",
    "0 & 1\n",
    "\\end{pmatrix}$\n",
    "- Generate a target dataset (y) of 100 samples by adding up the two features of each row of x"
   ]
  },
  {
   "cell_type": "markdown",
   "metadata": {},
   "source": [
    "# Exercise 2\n",
    "\n",
    "Plot the data such that the following figure will be displayed:\n",
    "\n",
    "![img](../media/exercise_plt.png)\n",
    "\n",
    "Hint:\n",
    "The colorbar is *coolwarm*"
   ]
  },
  {
   "cell_type": "code",
   "execution_count": null,
   "metadata": {},
   "outputs": [],
   "source": [
    "%matplotlib widget"
   ]
  },
  {
   "cell_type": "markdown",
   "metadata": {},
   "source": [
    "# Exercise 3\n",
    "\n",
    "- Plot the data from exercise 2 with a 3D Plot:\n",
    "    - The X, Y axis are the two features from the x array\n",
    "    - The Z axis is the y array\n",
    "\n",
    "![img](../media/exercise_plt2.png)"
   ]
  }
 ],
 "metadata": {
  "kernelspec": {
   "display_name": "pyData",
   "language": "python",
   "name": "python3"
  },
  "language_info": {
   "codemirror_mode": {
    "name": "ipython",
    "version": 3
   },
   "file_extension": ".py",
   "mimetype": "text/x-python",
   "name": "python",
   "nbconvert_exporter": "python",
   "pygments_lexer": "ipython3",
   "version": "3.10.4"
  },
  "orig_nbformat": 2,
  "vscode": {
   "interpreter": {
    "hash": "f7005c152070cabaaf593843feaa8c4a4a04ad569523413e5d5955ceb49c894d"
   }
  }
 },
 "nbformat": 4,
 "nbformat_minor": 2
}
