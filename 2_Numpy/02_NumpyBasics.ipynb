{
 "cells": [
  {
   "cell_type": "code",
   "execution_count": 44,
   "metadata": {},
   "outputs": [],
   "source": [
    "import numpy as np"
   ]
  },
  {
   "cell_type": "markdown",
   "metadata": {},
   "source": [
    "# Numpy Basics\n"
   ]
  },
  {
   "attachments": {},
   "cell_type": "markdown",
   "metadata": {},
   "source": [
    "NumPy provides an N-dimensional array type, the ndarray.  \n",
    "It describes a collection of “items” of the _same_ type.  \n",
    "The items can be indexed using for example N integers.  \n",
    "All ndarrays are homogeneous: every item takes up the same size block of memory.  \n",
    "An item from the array is represented by a PyObject which is one of the built in NumPy scalar types.\n"
   ]
  },
  {
   "attachments": {},
   "cell_type": "markdown",
   "metadata": {},
   "source": [
    "<p align=\"left\">\n",
    "<img src=\"https://numpy.org/doc/stable/_images/threefundamental.png\">\n",
    "</p>\n"
   ]
  },
  {
   "cell_type": "markdown",
   "metadata": {},
   "source": [
    "## NumPy Array Attributes\n"
   ]
  },
  {
   "cell_type": "code",
   "execution_count": 45,
   "metadata": {},
   "outputs": [],
   "source": [
    "np.random.seed(0)"
   ]
  },
  {
   "cell_type": "code",
   "execution_count": 46,
   "metadata": {},
   "outputs": [],
   "source": [
    "def array_info(array: np.ndarray) -> None:\n",
    "    print(f\"ndim: {array.ndim}\")\n",
    "    print(f\"shape: {array.shape}\")\n",
    "    print(f\"size: {array.size}\")\n",
    "    print(f\"dtype: {array.dtype}\")\n",
    "    print(f\"values:\\n{array}\\n\")"
   ]
  },
  {
   "attachments": {},
   "cell_type": "markdown",
   "metadata": {},
   "source": [
    "## Array Indexing and Slicing\n",
    "\n",
    "Array indexing refers to any use of the square brackets ([]) to index array values.  \n",
    "There are many options to indexing, which give numpy indexing great power.\n",
    "\n",
    "Most of the following examples show the use of indexing when referencing data in an array.  \n",
    "The examples work just as well when assigning to an array.\n",
    "\n",
    "Note: Slices of arrays do not copy the internal array data but only produce new views of the data.\n"
   ]
  },
  {
   "cell_type": "markdown",
   "metadata": {},
   "source": [
    "![](../media/np_matrix_indexing.png)\n"
   ]
  },
  {
   "cell_type": "code",
   "execution_count": 47,
   "metadata": {
    "collapsed": false
   },
   "outputs": [
    {
     "name": "stdout",
     "output_type": "stream",
     "text": [
      "ndim: 2\n",
      "shape: (3, 2)\n",
      "size: 6\n",
      "dtype: int32\n",
      "values:\n",
      "[[1 2]\n",
      " [3 4]\n",
      " [5 6]]\n",
      "\n"
     ]
    }
   ],
   "source": [
    "x = np.array([[1, 2], [3, 4], [5, 6]])\n",
    "\n",
    "array_info(x)"
   ]
  },
  {
   "cell_type": "code",
   "execution_count": 48,
   "metadata": {
    "collapsed": false
   },
   "outputs": [
    {
     "name": "stdout",
     "output_type": "stream",
     "text": [
      "[[1 2]\n",
      " [3 4]\n",
      " [5 6]]\n"
     ]
    }
   ],
   "source": [
    "print(x[:3])"
   ]
  },
  {
   "cell_type": "code",
   "execution_count": 49,
   "metadata": {
    "collapsed": false
   },
   "outputs": [
    {
     "name": "stdout",
     "output_type": "stream",
     "text": [
      "[[3 4]\n",
      " [5 6]]\n"
     ]
    }
   ],
   "source": [
    "print(x[1:])"
   ]
  },
  {
   "cell_type": "code",
   "execution_count": 50,
   "metadata": {
    "collapsed": false
   },
   "outputs": [
    {
     "name": "stdout",
     "output_type": "stream",
     "text": [
      "[[3 4]]\n"
     ]
    }
   ],
   "source": [
    "print(x[1:2])"
   ]
  },
  {
   "cell_type": "code",
   "execution_count": 51,
   "metadata": {
    "collapsed": false
   },
   "outputs": [
    {
     "name": "stdout",
     "output_type": "stream",
     "text": [
      "[[5 6]\n",
      " [3 4]\n",
      " [1 2]]\n"
     ]
    }
   ],
   "source": [
    "print(x[::-1])"
   ]
  },
  {
   "cell_type": "code",
   "execution_count": 52,
   "metadata": {
    "collapsed": false
   },
   "outputs": [
    {
     "name": "stdout",
     "output_type": "stream",
     "text": [
      "[1 2]\n"
     ]
    }
   ],
   "source": [
    "print(x[0, :])"
   ]
  },
  {
   "cell_type": "code",
   "execution_count": 53,
   "metadata": {
    "collapsed": false
   },
   "outputs": [
    {
     "name": "stdout",
     "output_type": "stream",
     "text": [
      "[1 2]\n"
     ]
    }
   ],
   "source": [
    "print(x[0])"
   ]
  },
  {
   "cell_type": "code",
   "execution_count": 54,
   "metadata": {
    "collapsed": false
   },
   "outputs": [
    {
     "name": "stdout",
     "output_type": "stream",
     "text": [
      "[1 3 5]\n"
     ]
    }
   ],
   "source": [
    "print(x[:, 0])"
   ]
  },
  {
   "cell_type": "code",
   "execution_count": 55,
   "metadata": {},
   "outputs": [
    {
     "name": "stdout",
     "output_type": "stream",
     "text": [
      "[[-1.78290539 -3.87118733]\n",
      " [-1.76178869 -1.82780883]\n",
      " [-1.35141055 -4.32039163]\n",
      " [-0.81984535 -2.14310962]\n",
      " [-0.06176746  0.29530878]\n",
      " [-0.68960528 -0.09076013]\n",
      " [-0.74967019 -1.67816385]\n",
      " [-0.53776779 -0.93711981]\n",
      " [-1.30183841 -3.36497764]\n",
      " [ 0.03761145 -0.8336645 ]]\n",
      "(10, 2)\n"
     ]
    }
   ],
   "source": [
    "mean = [0, 0]\n",
    "cov = [[1, 2], [2, 5]]\n",
    "\n",
    "x = np.random.multivariate_normal(\n",
    "    mean=mean,\n",
    "    cov=cov,\n",
    "    size=10,\n",
    ")\n",
    "\n",
    "print(x)\n",
    "print(x.shape)"
   ]
  },
  {
   "cell_type": "code",
   "execution_count": 56,
   "metadata": {},
   "outputs": [
    {
     "name": "stdout",
     "output_type": "stream",
     "text": [
      "[9 9 0]\n"
     ]
    }
   ],
   "source": [
    "rand_idxs = np.random.randint(\n",
    "    low=0,\n",
    "    high=x.shape[0],\n",
    "    size=3,\n",
    ")\n",
    "\n",
    "print(rand_idxs)"
   ]
  },
  {
   "cell_type": "code",
   "execution_count": 57,
   "metadata": {},
   "outputs": [
    {
     "name": "stdout",
     "output_type": "stream",
     "text": [
      "[[ 0.03761145 -0.8336645 ]\n",
      " [ 0.03761145 -0.8336645 ]\n",
      " [-1.78290539 -3.87118733]]\n"
     ]
    }
   ],
   "source": [
    "x_subsample = x[rand_idxs, :]\n",
    "\n",
    "print(x_subsample)"
   ]
  },
  {
   "cell_type": "code",
   "execution_count": 58,
   "metadata": {},
   "outputs": [
    {
     "name": "stdout",
     "output_type": "stream",
     "text": [
      "[[ 0.03761145 -0.8336645 ]\n",
      " [ 0.03761145 -0.8336645 ]\n",
      " [-1.78290539 -3.87118733]]\n"
     ]
    }
   ],
   "source": [
    "x_subsample = x[rand_idxs]\n",
    "\n",
    "print(x_subsample)"
   ]
  },
  {
   "cell_type": "markdown",
   "metadata": {},
   "source": [
    "## Subarrays are views\n"
   ]
  },
  {
   "cell_type": "code",
   "execution_count": 59,
   "metadata": {
    "collapsed": false
   },
   "outputs": [
    {
     "name": "stdout",
     "output_type": "stream",
     "text": [
      "[[-1.78290539 -3.87118733]\n",
      " [-1.76178869 -1.82780883]\n",
      " [-1.35141055 -4.32039163]\n",
      " [-0.81984535 -2.14310962]\n",
      " [-0.06176746  0.29530878]\n",
      " [-0.68960528 -0.09076013]\n",
      " [-0.74967019 -1.67816385]\n",
      " [-0.53776779 -0.93711981]\n",
      " [-1.30183841 -3.36497764]\n",
      " [ 0.03761145 -0.8336645 ]]\n"
     ]
    }
   ],
   "source": [
    "print(x)"
   ]
  },
  {
   "cell_type": "code",
   "execution_count": 60,
   "metadata": {
    "collapsed": false
   },
   "outputs": [
    {
     "name": "stdout",
     "output_type": "stream",
     "text": [
      "ndim: 2\n",
      "shape: (2, 2)\n",
      "size: 4\n",
      "dtype: float64\n",
      "values:\n",
      "[[-1.78290539 -3.87118733]\n",
      " [-1.76178869 -1.82780883]]\n",
      "\n"
     ]
    }
   ],
   "source": [
    "x_sub_array = x[:2, :2]\n",
    "\n",
    "array_info(x_sub_array)"
   ]
  },
  {
   "cell_type": "code",
   "execution_count": 61,
   "metadata": {
    "collapsed": false
   },
   "outputs": [
    {
     "name": "stdout",
     "output_type": "stream",
     "text": [
      "ndim: 2\n",
      "shape: (2, 2)\n",
      "size: 4\n",
      "dtype: float64\n",
      "values:\n",
      "[[-1.         -3.87118733]\n",
      " [-1.76178869 -1.82780883]]\n",
      "\n"
     ]
    }
   ],
   "source": [
    "x_sub_array[0, 0] = -1\n",
    "\n",
    "array_info(x_sub_array)"
   ]
  },
  {
   "cell_type": "code",
   "execution_count": 62,
   "metadata": {
    "collapsed": false
   },
   "outputs": [
    {
     "name": "stdout",
     "output_type": "stream",
     "text": [
      "ndim: 2\n",
      "shape: (10, 2)\n",
      "size: 20\n",
      "dtype: float64\n",
      "values:\n",
      "[[-1.         -3.87118733]\n",
      " [-1.76178869 -1.82780883]\n",
      " [-1.35141055 -4.32039163]\n",
      " [-0.81984535 -2.14310962]\n",
      " [-0.06176746  0.29530878]\n",
      " [-0.68960528 -0.09076013]\n",
      " [-0.74967019 -1.67816385]\n",
      " [-0.53776779 -0.93711981]\n",
      " [-1.30183841 -3.36497764]\n",
      " [ 0.03761145 -0.8336645 ]]\n",
      "\n"
     ]
    }
   ],
   "source": [
    "array_info(x)"
   ]
  },
  {
   "cell_type": "markdown",
   "metadata": {},
   "source": [
    "## Creating copies of arrays\n"
   ]
  },
  {
   "cell_type": "code",
   "execution_count": 63,
   "metadata": {
    "collapsed": false
   },
   "outputs": [
    {
     "name": "stdout",
     "output_type": "stream",
     "text": [
      "ndim: 2\n",
      "shape: (2, 2)\n",
      "size: 4\n",
      "dtype: float64\n",
      "values:\n",
      "[[-1.         -3.87118733]\n",
      " [-1.76178869 -1.82780883]]\n",
      "\n"
     ]
    }
   ],
   "source": [
    "x_copy = x[:2, :2].copy()\n",
    "\n",
    "array_info(x_copy)"
   ]
  },
  {
   "cell_type": "code",
   "execution_count": 64,
   "metadata": {
    "collapsed": false
   },
   "outputs": [
    {
     "name": "stdout",
     "output_type": "stream",
     "text": [
      "ndim: 2\n",
      "shape: (2, 2)\n",
      "size: 4\n",
      "dtype: float64\n",
      "values:\n",
      "[[42.         -3.87118733]\n",
      " [-1.76178869 -1.82780883]]\n",
      "\n"
     ]
    }
   ],
   "source": [
    "x_copy[0, 0] = 42\n",
    "\n",
    "array_info(x_copy)"
   ]
  },
  {
   "cell_type": "code",
   "execution_count": 65,
   "metadata": {
    "collapsed": false
   },
   "outputs": [
    {
     "name": "stdout",
     "output_type": "stream",
     "text": [
      "ndim: 2\n",
      "shape: (10, 2)\n",
      "size: 20\n",
      "dtype: float64\n",
      "values:\n",
      "[[-1.         -3.87118733]\n",
      " [-1.76178869 -1.82780883]\n",
      " [-1.35141055 -4.32039163]\n",
      " [-0.81984535 -2.14310962]\n",
      " [-0.06176746  0.29530878]\n",
      " [-0.68960528 -0.09076013]\n",
      " [-0.74967019 -1.67816385]\n",
      " [-0.53776779 -0.93711981]\n",
      " [-1.30183841 -3.36497764]\n",
      " [ 0.03761145 -0.8336645 ]]\n",
      "\n"
     ]
    }
   ],
   "source": [
    "array_info(x)"
   ]
  },
  {
   "cell_type": "markdown",
   "metadata": {},
   "source": [
    "## Reshaping of Arrays\n"
   ]
  },
  {
   "cell_type": "code",
   "execution_count": 66,
   "metadata": {},
   "outputs": [
    {
     "name": "stdout",
     "output_type": "stream",
     "text": [
      "ndim: 1\n",
      "shape: (9,)\n",
      "size: 9\n",
      "dtype: int32\n",
      "values:\n",
      "[1 2 3 4 5 6 7 8 9]\n",
      "\n"
     ]
    }
   ],
   "source": [
    "a = np.arange(\n",
    "    start=1,\n",
    "    stop=10,\n",
    ")\n",
    "\n",
    "array_info(a)"
   ]
  },
  {
   "cell_type": "code",
   "execution_count": 67,
   "metadata": {
    "collapsed": false
   },
   "outputs": [
    {
     "name": "stdout",
     "output_type": "stream",
     "text": [
      "ndim: 2\n",
      "shape: (3, 3)\n",
      "size: 9\n",
      "dtype: int32\n",
      "values:\n",
      "[[1 2 3]\n",
      " [4 5 6]\n",
      " [7 8 9]]\n",
      "\n"
     ]
    }
   ],
   "source": [
    "grid = np.reshape(\n",
    "    a,\n",
    "    newshape=(3, 3),\n",
    ")\n",
    "\n",
    "array_info(grid)"
   ]
  },
  {
   "cell_type": "code",
   "execution_count": 68,
   "metadata": {
    "collapsed": false
   },
   "outputs": [
    {
     "name": "stdout",
     "output_type": "stream",
     "text": [
      "ndim: 1\n",
      "shape: (3,)\n",
      "size: 3\n",
      "dtype: int32\n",
      "values:\n",
      "[1 2 3]\n",
      "\n"
     ]
    }
   ],
   "source": [
    "x = np.array([1, 2, 3])\n",
    "\n",
    "array_info(x)"
   ]
  },
  {
   "cell_type": "code",
   "execution_count": 69,
   "metadata": {},
   "outputs": [
    {
     "name": "stdout",
     "output_type": "stream",
     "text": [
      "ndim: 2\n",
      "shape: (1, 3)\n",
      "size: 3\n",
      "dtype: int32\n",
      "values:\n",
      "[[1 2 3]]\n",
      "\n"
     ]
    }
   ],
   "source": [
    "x = np.reshape(\n",
    "    x,\n",
    "    newshape=(1, 3),\n",
    ")\n",
    "\n",
    "array_info(x)"
   ]
  },
  {
   "cell_type": "code",
   "execution_count": 70,
   "metadata": {
    "collapsed": false
   },
   "outputs": [
    {
     "name": "stdout",
     "output_type": "stream",
     "text": [
      "ndim: 2\n",
      "shape: (1, 3)\n",
      "size: 3\n",
      "dtype: int32\n",
      "values:\n",
      "[[1 2 3]]\n",
      "\n",
      "ndim: 3\n",
      "shape: (1, 1, 3)\n",
      "size: 3\n",
      "dtype: int32\n",
      "values:\n",
      "[[[1 2 3]]]\n",
      "\n"
     ]
    }
   ],
   "source": [
    "array_info(x)\n",
    "\n",
    "x = x[np.newaxis, :]\n",
    "\n",
    "array_info(x)"
   ]
  },
  {
   "cell_type": "code",
   "execution_count": 71,
   "metadata": {
    "collapsed": false
   },
   "outputs": [
    {
     "name": "stdout",
     "output_type": "stream",
     "text": [
      "ndim: 3\n",
      "shape: (1, 1, 3)\n",
      "size: 3\n",
      "dtype: int32\n",
      "values:\n",
      "[[[1 2 3]]]\n",
      "\n",
      "ndim: 2\n",
      "shape: (3, 1)\n",
      "size: 3\n",
      "dtype: int32\n",
      "values:\n",
      "[[1]\n",
      " [2]\n",
      " [3]]\n",
      "\n"
     ]
    }
   ],
   "source": [
    "array_info(x)\n",
    "\n",
    "x = x.reshape((3, 1))\n",
    "\n",
    "array_info(x)"
   ]
  },
  {
   "cell_type": "code",
   "execution_count": 72,
   "metadata": {},
   "outputs": [
    {
     "name": "stdout",
     "output_type": "stream",
     "text": [
      "ndim: 2\n",
      "shape: (3, 1)\n",
      "size: 3\n",
      "dtype: int32\n",
      "values:\n",
      "[[1]\n",
      " [2]\n",
      " [3]]\n",
      "\n",
      "ndim: 1\n",
      "shape: (3,)\n",
      "size: 3\n",
      "dtype: int32\n",
      "values:\n",
      "[1 2 3]\n",
      "\n"
     ]
    }
   ],
   "source": [
    "array_info(x)\n",
    "\n",
    "x = x.ravel()\n",
    "\n",
    "array_info(x)"
   ]
  },
  {
   "cell_type": "code",
   "execution_count": 73,
   "metadata": {},
   "outputs": [
    {
     "name": "stdout",
     "output_type": "stream",
     "text": [
      "ndim: 2\n",
      "shape: (3, 1)\n",
      "size: 3\n",
      "dtype: int32\n",
      "values:\n",
      "[[1]\n",
      " [2]\n",
      " [3]]\n",
      "\n",
      "ndim: 1\n",
      "shape: (3,)\n",
      "size: 3\n",
      "dtype: int32\n",
      "values:\n",
      "[1 2 3]\n",
      "\n"
     ]
    }
   ],
   "source": [
    "x = x.reshape((3, 1))\n",
    "array_info(x)\n",
    "\n",
    "x = x.flatten()\n",
    "\n",
    "array_info(x)"
   ]
  },
  {
   "cell_type": "markdown",
   "metadata": {},
   "source": [
    "### “Automatic” Reshaping\n"
   ]
  },
  {
   "cell_type": "code",
   "execution_count": 74,
   "metadata": {},
   "outputs": [
    {
     "name": "stdout",
     "output_type": "stream",
     "text": [
      "ndim: 1\n",
      "shape: (30,)\n",
      "size: 30\n",
      "dtype: int32\n",
      "values:\n",
      "[ 0  1  2  3  4  5  6  7  8  9 10 11 12 13 14 15 16 17 18 19 20 21 22 23\n",
      " 24 25 26 27 28 29]\n",
      "\n"
     ]
    }
   ],
   "source": [
    "a = np.arange(30)\n",
    "\n",
    "array_info(a)"
   ]
  },
  {
   "cell_type": "code",
   "execution_count": 75,
   "metadata": {},
   "outputs": [
    {
     "name": "stdout",
     "output_type": "stream",
     "text": [
      "ndim: 3\n",
      "shape: (2, 5, 3)\n",
      "size: 30\n",
      "dtype: int32\n",
      "values:\n",
      "[[[ 0  1  2]\n",
      "  [ 3  4  5]\n",
      "  [ 6  7  8]\n",
      "  [ 9 10 11]\n",
      "  [12 13 14]]\n",
      "\n",
      " [[15 16 17]\n",
      "  [18 19 20]\n",
      "  [21 22 23]\n",
      "  [24 25 26]\n",
      "  [27 28 29]]]\n",
      "\n"
     ]
    }
   ],
   "source": [
    "b = a.reshape((2, -1, 3))\n",
    "\n",
    "array_info(b)"
   ]
  },
  {
   "attachments": {},
   "cell_type": "markdown",
   "metadata": {},
   "source": [
    "## Changing the Dtype\n",
    "\n",
    "### Integer Types\n",
    "\n",
    "| Numpy type   | C type   | Description                            |\n",
    "| ------------ | -------- | -------------------------------------- |\n",
    "| numpy.int8   | int8_t   | Byte ($-2^{7}$ to ($2^{7} - 1$))       |\n",
    "| numpy.int16  | int16_t  | Integer ($-2^{15}$ to ($2^{15} - 1$))  |\n",
    "| numpy.int32  | int32_t  | Integer ($-2^{31}$ to ($2^{31} - 1$))  |\n",
    "| numpy.int64  | int64_t  | Integer ($-2^{63}$ to ($2^{63} - 1$))  |\n",
    "| numpy.uint8  | uint8_t  | Unsigned integer (0 to ($2^{8} - 1$))  |\n",
    "| numpy.uint16 | uint16_t | Unsigned integer (0 to ($2^{16} - 1$)) |\n",
    "| numpy.uint32 | uint32_t | Unsigned integer (0 to ($2^{32} - 1$)) |\n",
    "| numpy.uint64 | uint64_t | Unsigned integer (0 to ($2^{64} - 1$)) |\n",
    "\n",
    "### Float Types\n",
    "\n",
    "| Numpy type       | C type         |\n",
    "| ---------------- | -------------- |\n",
    "| numpy.float32    | float          |\n",
    "| numpy.float64    | double         |\n",
    "| numpy.complex64  | float complex  |\n",
    "| numpy.complex128 | double complex |\n"
   ]
  },
  {
   "cell_type": "code",
   "execution_count": 76,
   "metadata": {},
   "outputs": [
    {
     "name": "stdout",
     "output_type": "stream",
     "text": [
      "ndim: 1\n",
      "shape: (3,)\n",
      "size: 3\n",
      "dtype: float32\n",
      "values:\n",
      "[-1.  2.  3.]\n",
      "\n"
     ]
    }
   ],
   "source": [
    "x = np.float32([-1.0, 2.0, 3.0])\n",
    "\n",
    "array_info(x)"
   ]
  },
  {
   "cell_type": "code",
   "execution_count": 77,
   "metadata": {},
   "outputs": [],
   "source": [
    "x = np.array(\n",
    "    [-1.0, 2.0, 3.0],\n",
    "    dtype=np.float32,\n",
    ")"
   ]
  },
  {
   "cell_type": "code",
   "execution_count": 78,
   "metadata": {},
   "outputs": [
    {
     "name": "stdout",
     "output_type": "stream",
     "text": [
      "ndim: 1\n",
      "shape: (3,)\n",
      "size: 3\n",
      "dtype: int8\n",
      "values:\n",
      "[-1  2  3]\n",
      "\n"
     ]
    }
   ],
   "source": [
    "y = x.astype(np.int8)\n",
    "\n",
    "array_info(y)"
   ]
  },
  {
   "cell_type": "code",
   "execution_count": 79,
   "metadata": {},
   "outputs": [
    {
     "name": "stdout",
     "output_type": "stream",
     "text": [
      "ndim: 1\n",
      "shape: (3,)\n",
      "size: 3\n",
      "dtype: uint16\n",
      "values:\n",
      "[65535     2     3]\n",
      "\n"
     ]
    }
   ],
   "source": [
    "z = np.uint16(x)\n",
    "\n",
    "array_info(z)"
   ]
  },
  {
   "cell_type": "markdown",
   "metadata": {},
   "source": [
    "## Concatenation of arrays\n"
   ]
  },
  {
   "cell_type": "code",
   "execution_count": 80,
   "metadata": {
    "collapsed": false
   },
   "outputs": [
    {
     "name": "stdout",
     "output_type": "stream",
     "text": [
      "ndim: 1\n",
      "shape: (6,)\n",
      "size: 6\n",
      "dtype: int32\n",
      "values:\n",
      "[1 2 3 3 2 1]\n",
      "\n"
     ]
    }
   ],
   "source": [
    "x = np.array([1, 2, 3])\n",
    "y = np.array([3, 2, 1])\n",
    "\n",
    "result = np.concatenate([x, y])\n",
    "\n",
    "array_info(result)"
   ]
  },
  {
   "cell_type": "code",
   "execution_count": 81,
   "metadata": {
    "collapsed": false
   },
   "outputs": [
    {
     "name": "stdout",
     "output_type": "stream",
     "text": [
      "ndim: 2\n",
      "shape: (2, 3)\n",
      "size: 6\n",
      "dtype: int32\n",
      "values:\n",
      "[[1 2 3]\n",
      " [4 5 6]]\n",
      "\n"
     ]
    }
   ],
   "source": [
    "grid = np.array([[1, 2, 3], [4, 5, 6]])\n",
    "\n",
    "array_info(grid)"
   ]
  },
  {
   "cell_type": "code",
   "execution_count": 82,
   "metadata": {
    "collapsed": false
   },
   "outputs": [
    {
     "name": "stdout",
     "output_type": "stream",
     "text": [
      "ndim: 2\n",
      "shape: (4, 3)\n",
      "size: 12\n",
      "dtype: int32\n",
      "values:\n",
      "[[1 2 3]\n",
      " [4 5 6]\n",
      " [1 2 3]\n",
      " [4 5 6]]\n",
      "\n"
     ]
    }
   ],
   "source": [
    "result = np.concatenate([grid, grid])\n",
    "\n",
    "array_info(result)"
   ]
  },
  {
   "cell_type": "code",
   "execution_count": 83,
   "metadata": {},
   "outputs": [
    {
     "name": "stdout",
     "output_type": "stream",
     "text": [
      "ndim: 2\n",
      "shape: (4, 3)\n",
      "size: 12\n",
      "dtype: int32\n",
      "values:\n",
      "[[1 2 3]\n",
      " [4 5 6]\n",
      " [1 2 3]\n",
      " [4 5 6]]\n",
      "\n"
     ]
    }
   ],
   "source": [
    "result = np.concatenate(\n",
    "    [grid, grid],\n",
    "    axis=0,\n",
    ")\n",
    "\n",
    "array_info(result)"
   ]
  },
  {
   "cell_type": "code",
   "execution_count": 84,
   "metadata": {
    "collapsed": false
   },
   "outputs": [
    {
     "name": "stdout",
     "output_type": "stream",
     "text": [
      "ndim: 2\n",
      "shape: (2, 6)\n",
      "size: 12\n",
      "dtype: int32\n",
      "values:\n",
      "[[1 2 3 1 2 3]\n",
      " [4 5 6 4 5 6]]\n",
      "\n"
     ]
    }
   ],
   "source": [
    "result = np.concatenate(\n",
    "    [grid, grid],\n",
    "    axis=1,\n",
    ")\n",
    "\n",
    "array_info(result)"
   ]
  },
  {
   "cell_type": "code",
   "execution_count": 85,
   "metadata": {
    "collapsed": false
   },
   "outputs": [
    {
     "name": "stdout",
     "output_type": "stream",
     "text": [
      "ndim: 2\n",
      "shape: (3, 3)\n",
      "size: 9\n",
      "dtype: int32\n",
      "values:\n",
      "[[1 2 3]\n",
      " [4 5 6]\n",
      " [7 8 9]]\n",
      "\n"
     ]
    }
   ],
   "source": [
    "x = np.array([1, 2, 3])\n",
    "grid = np.array([[4, 5, 6], [7, 8, 9]])\n",
    "\n",
    "result = np.vstack([x, grid])\n",
    "\n",
    "array_info(result)"
   ]
  },
  {
   "cell_type": "code",
   "execution_count": 86,
   "metadata": {
    "collapsed": false
   },
   "outputs": [
    {
     "name": "stdout",
     "output_type": "stream",
     "text": [
      "ndim: 2\n",
      "shape: (2, 4)\n",
      "size: 8\n",
      "dtype: int32\n",
      "values:\n",
      "[[ 4  5  6 -1]\n",
      " [ 7  8  9 -1]]\n",
      "\n"
     ]
    }
   ],
   "source": [
    "y = np.array([[-1], [-1]])\n",
    "\n",
    "result = np.hstack([grid, y])\n",
    "\n",
    "array_info(result)"
   ]
  }
 ],
 "metadata": {
  "anaconda-cloud": {},
  "kernelspec": {
   "display_name": "pyData",
   "language": "python",
   "name": "python3"
  },
  "language_info": {
   "codemirror_mode": {
    "name": "ipython",
    "version": 3
   },
   "file_extension": ".py",
   "mimetype": "text/x-python",
   "name": "python",
   "nbconvert_exporter": "python",
   "pygments_lexer": "ipython3",
   "version": "3.11.5"
  },
  "metadata": {
   "interpreter": {
    "hash": "423c48e3256333a0e0252f1efeec30283ab6ba0213e3a05c32b0541c29f89950"
   }
  },
  "vscode": {
   "interpreter": {
    "hash": "f7005c152070cabaaf593843feaa8c4a4a04ad569523413e5d5955ceb49c894d"
   }
  }
 },
 "nbformat": 4,
 "nbformat_minor": 0
}
