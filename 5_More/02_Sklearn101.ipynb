{
 "cells": [
  {
   "cell_type": "code",
   "execution_count": 13,
   "metadata": {},
   "outputs": [],
   "source": [
    "import numpy as np\n",
    "\n",
    "\n",
    "np.random.seed(42)\n",
    "import pandas as pd\n",
    "from sklearn.preprocessing import LabelEncoder"
   ]
  },
  {
   "cell_type": "markdown",
   "metadata": {},
   "source": [
    "### Dataset preparation\n"
   ]
  },
  {
   "cell_type": "code",
   "execution_count": 14,
   "metadata": {},
   "outputs": [
    {
     "name": "stdout",
     "output_type": "stream",
     "text": [
      "   Survived  Pclass     Sex   Age  SibSp  Parch     Fare Embarked Cabin_Cat\n",
      "0         1       1  female  38.0      1      0  71.2833        C         C\n",
      "1         1       1  female  35.0      1      0  53.1000        S         C\n",
      "2         0       1    male  54.0      0      0  51.8625        S         E\n",
      "3         1       3  female   4.0      1      1  16.7000        S         G\n",
      "4         1       1  female  58.0      0      0  26.5500        S         C\n",
      "(183, 9)\n"
     ]
    }
   ],
   "source": [
    "data = pd.read_csv(\"../data/titanic/sklearn_dataset.csv\")\n",
    "\n",
    "print(data.head())\n",
    "print(data.shape)"
   ]
  },
  {
   "cell_type": "code",
   "execution_count": 15,
   "metadata": {},
   "outputs": [],
   "source": [
    "data_y = data.Survived\n",
    "data_x = data.drop([\"Survived\"], axis=1)"
   ]
  },
  {
   "cell_type": "code",
   "execution_count": 16,
   "metadata": {},
   "outputs": [
    {
     "name": "stdout",
     "output_type": "stream",
     "text": [
      "     Pclass     Sex   Age  SibSp  Parch     Fare Embarked Cabin_Cat\n",
      "0         1  female  38.0      1      0  71.2833        C         C\n",
      "1         1  female  35.0      1      0  53.1000        S         C\n",
      "2         1    male  54.0      0      0  51.8625        S         E\n",
      "3         3  female   4.0      1      1  16.7000        S         G\n",
      "4         1  female  58.0      0      0  26.5500        S         C\n",
      "..      ...     ...   ...    ...    ...      ...      ...       ...\n",
      "178       1  female  47.0      1      1  52.5542        S         D\n",
      "179       1    male  33.0      0      0   5.0000        S         B\n",
      "180       1  female  56.0      0      1  83.1583        C         C\n",
      "181       1  female  19.0      0      0  30.0000        S         B\n",
      "182       1    male  26.0      0      0  30.0000        C         C\n",
      "\n",
      "[183 rows x 8 columns]\n",
      "0      1\n",
      "1      1\n",
      "2      0\n",
      "3      1\n",
      "4      1\n",
      "      ..\n",
      "178    1\n",
      "179    0\n",
      "180    1\n",
      "181    1\n",
      "182    1\n",
      "Name: Survived, Length: 183, dtype: int64\n"
     ]
    }
   ],
   "source": [
    "print(data_x)\n",
    "print(data_y)"
   ]
  },
  {
   "cell_type": "code",
   "execution_count": 17,
   "metadata": {},
   "outputs": [],
   "source": [
    "encder_cls = LabelEncoder"
   ]
  },
  {
   "cell_type": "code",
   "execution_count": 18,
   "metadata": {},
   "outputs": [],
   "source": [
    "data_sex = data_x[\"Sex\"]\n",
    "encoder = encder_cls()\n",
    "encoder.fit(data_sex)\n",
    "data_x[\"Sex\"] = encoder.transform(data_sex)\n",
    "\n",
    "data_emb = data_x[\"Embarked\"]\n",
    "encoder = encder_cls()\n",
    "encoder.fit(data_emb)\n",
    "data_x[\"Embarked\"] = encoder.transform(data_emb)\n",
    "\n",
    "data_cab = data_x[\"Cabin_Cat\"]\n",
    "encoder = encder_cls()\n",
    "encoder.fit(data_cab)\n",
    "data_x[\"Cabin_Cat\"] = encoder.transform(data_cab)"
   ]
  },
  {
   "cell_type": "code",
   "execution_count": 19,
   "metadata": {
    "tags": []
   },
   "outputs": [
    {
     "name": "stdout",
     "output_type": "stream",
     "text": [
      "x shape:\n",
      "(183, 8)\n",
      "y shape:\n",
      "(183,)\n",
      "x:\n",
      "   Pclass  Sex   Age  SibSp  Parch     Fare  Embarked  Cabin_Cat\n",
      "0       1    0  38.0      1      0  71.2833         0          2\n",
      "1       1    0  35.0      1      0  53.1000         2          2\n",
      "2       1    1  54.0      0      0  51.8625         2          4\n",
      "3       3    0   4.0      1      1  16.7000         2          6\n",
      "4       1    0  58.0      0      0  26.5500         2          2\n",
      "y:\n",
      "   Pclass  Sex   Age  SibSp  Parch     Fare  Embarked  Cabin_Cat\n",
      "0       1    0  38.0      1      0  71.2833         0          2\n",
      "1       1    0  35.0      1      0  53.1000         2          2\n",
      "2       1    1  54.0      0      0  51.8625         2          4\n",
      "3       3    0   4.0      1      1  16.7000         2          6\n",
      "4       1    0  58.0      0      0  26.5500         2          2\n"
     ]
    }
   ],
   "source": [
    "print(f\"x shape:\\n{data_x.shape}\")\n",
    "print(f\"y shape:\\n{data_y.shape}\")\n",
    "\n",
    "print(f\"x:\\n{data_x.iloc[:5]}\")\n",
    "print(f\"y:\\n{data_x.iloc[:5]}\")"
   ]
  },
  {
   "cell_type": "code",
   "execution_count": 20,
   "metadata": {},
   "outputs": [],
   "source": [
    "x = data_x.to_numpy()\n",
    "y = data_y.to_numpy()"
   ]
  },
  {
   "cell_type": "markdown",
   "metadata": {},
   "source": [
    "### Dataset Split\n"
   ]
  },
  {
   "cell_type": "code",
   "execution_count": 21,
   "metadata": {
    "scrolled": true
   },
   "outputs": [
    {
     "name": "stdout",
     "output_type": "stream",
     "text": [
      "Num_samples: 183\n",
      "Num_features: 8\n",
      "Survived: 123\n",
      "Not survived: 60\n",
      "Survived rate: 0.6721311475409836\n",
      "Not survived rate: 0.32786885245901637\n"
     ]
    }
   ],
   "source": [
    "num_samples = x.shape[0]\n",
    "num_features = x.shape[1]\n",
    "num_classes = y.shape[0]\n",
    "num_survived = np.count_nonzero(y == 1)\n",
    "num_not_survived = np.count_nonzero(y == 0)\n",
    "\n",
    "print(f\"Num_samples: {num_samples}\")\n",
    "print(f\"Num_features: {num_features}\")\n",
    "print(f\"Survived: {num_survived}\")\n",
    "print(f\"Not survived: {num_not_survived}\")\n",
    "print(f\"Survived rate: {num_survived / num_samples}\")\n",
    "print(f\"Not survived rate: {num_not_survived / num_samples}\")"
   ]
  },
  {
   "cell_type": "code",
   "execution_count": 22,
   "metadata": {},
   "outputs": [],
   "source": [
    "test_size = num_samples // 3\n",
    "\n",
    "random_idxs = np.random.permutation(num_samples)\n",
    "\n",
    "x_train = x[random_idxs[:-test_size]]\n",
    "y_train = y[random_idxs[:-test_size]]\n",
    "\n",
    "x_test = x[random_idxs[-test_size:]]\n",
    "y_test = y[random_idxs[-test_size:]]"
   ]
  },
  {
   "cell_type": "code",
   "execution_count": 23,
   "metadata": {
    "scrolled": true
   },
   "outputs": [
    {
     "name": "stdout",
     "output_type": "stream",
     "text": [
      "x_train shape:\n",
      "(122, 8)\n",
      "y_train shape:\n",
      "(122,)\n",
      "x_test shape:\n",
      "(61, 8)\n",
      "y_test shape:\n",
      "(61,)\n"
     ]
    }
   ],
   "source": [
    "print(f\"x_train shape:\\n{x_train.shape}\")\n",
    "print(f\"y_train shape:\\n{y_train.shape}\")\n",
    "\n",
    "print(f\"x_test shape:\\n{x_test.shape}\")\n",
    "print(f\"y_test shape:\\n{y_test.shape}\")"
   ]
  },
  {
   "cell_type": "markdown",
   "metadata": {},
   "source": [
    "### KNN Model\n"
   ]
  },
  {
   "cell_type": "code",
   "execution_count": 24,
   "metadata": {},
   "outputs": [
    {
     "name": "stdout",
     "output_type": "stream",
     "text": [
      "accuracy: 68.85%\n",
      "y_pred:\n",
      "[1 1 1 1 0 0 1 0 0 0 1 0 1 0 1 1 1 1 1 0 1 1 1 1 0 1 0 1 1 1 1 1 1 1 0 0 1\n",
      " 0 0 1 1 0 1 1 1 1 1 1 1 1 0 1 0 1 1 0 1 0 1 0 1]\n"
     ]
    }
   ],
   "source": [
    "from sklearn.tree import DecisionTreeClassifier\n",
    "\n",
    "\n",
    "clf = DecisionTreeClassifier()\n",
    "clf.fit(x_train, y_train)\n",
    "\n",
    "accuracy = clf.score(x_test, y_test)\n",
    "print(f\"accuracy: {accuracy * 100.0:.4}%\")\n",
    "\n",
    "y_pred = clf.predict(x_test)\n",
    "print(f\"y_pred:\\n{y_pred}\")"
   ]
  }
 ],
 "metadata": {
  "kernelspec": {
   "display_name": "pyData",
   "language": "python",
   "name": "python3"
  },
  "language_info": {
   "codemirror_mode": {
    "name": "ipython",
    "version": 3
   },
   "file_extension": ".py",
   "mimetype": "text/x-python",
   "name": "python",
   "nbconvert_exporter": "python",
   "pygments_lexer": "ipython3",
   "version": "3.10.4"
  },
  "vscode": {
   "interpreter": {
    "hash": "f7005c152070cabaaf593843feaa8c4a4a04ad569523413e5d5955ceb49c894d"
   }
  }
 },
 "nbformat": 4,
 "nbformat_minor": 4
}
