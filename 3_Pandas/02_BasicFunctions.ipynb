{
 "cells": [
  {
   "cell_type": "code",
   "execution_count": 10,
   "metadata": {},
   "outputs": [],
   "source": [
    "import numpy as np\n",
    "import pandas as pd"
   ]
  },
  {
   "cell_type": "markdown",
   "metadata": {},
   "source": [
    "# Pandas Basic Functionality\n"
   ]
  },
  {
   "cell_type": "code",
   "execution_count": 11,
   "metadata": {
    "collapsed": true
   },
   "outputs": [],
   "source": [
    "np.random.seed(0)"
   ]
  },
  {
   "cell_type": "code",
   "execution_count": 12,
   "metadata": {},
   "outputs": [],
   "source": [
    "def series_info(series: pd.Series) -> None:\n",
    "    print(f\"ndim: {series.ndim}\")\n",
    "    print(f\"shape: {series.shape}\")\n",
    "    print(f\"size: {series.size}\")\n",
    "    print(f\"dtype: {series.dtype}\")\n",
    "    print(f\"values:\\n{series}\\n\")"
   ]
  },
  {
   "cell_type": "code",
   "execution_count": 13,
   "metadata": {},
   "outputs": [],
   "source": [
    "def df_info(df: pd.DataFrame) -> None:\n",
    "    print(f\"ndim: {df.ndim}\")\n",
    "    print(f\"shape: {df.shape}\")\n",
    "    print(f\"size: {df.size}\")\n",
    "    print(f\"dtype: {df.dtypes}\")\n",
    "    print(f\"values:\\n{df}\\n\")"
   ]
  },
  {
   "cell_type": "code",
   "execution_count": 14,
   "metadata": {},
   "outputs": [],
   "source": [
    "s = pd.Series(\n",
    "    [0, 0, 1, 2, 3],\n",
    "    index=[\"a\", \"b\", \"c\", \"d\", \"e\"],\n",
    ")"
   ]
  },
  {
   "cell_type": "code",
   "execution_count": 15,
   "metadata": {},
   "outputs": [
    {
     "name": "stdout",
     "output_type": "stream",
     "text": [
      "ndim: 1\n",
      "shape: (5,)\n",
      "size: 5\n",
      "dtype: int64\n",
      "values:\n",
      "a    0\n",
      "b    0\n",
      "c    1\n",
      "d    2\n",
      "e    3\n",
      "dtype: int64\n",
      "\n"
     ]
    }
   ],
   "source": [
    "series_info(s)"
   ]
  },
  {
   "cell_type": "code",
   "execution_count": 16,
   "metadata": {},
   "outputs": [
    {
     "name": "stdout",
     "output_type": "stream",
     "text": [
      "[0 0 1 2 3]\n"
     ]
    }
   ],
   "source": [
    "print(s.values)"
   ]
  },
  {
   "cell_type": "code",
   "execution_count": 17,
   "metadata": {},
   "outputs": [],
   "source": [
    "num_samples = 10\n",
    "num_features = 3"
   ]
  },
  {
   "cell_type": "code",
   "execution_count": 18,
   "metadata": {},
   "outputs": [],
   "source": [
    "index = pd.date_range(\n",
    "    \"21/4/2021\",\n",
    "    periods=num_samples,\n",
    ")"
   ]
  },
  {
   "cell_type": "code",
   "execution_count": 19,
   "metadata": {},
   "outputs": [
    {
     "name": "stdout",
     "output_type": "stream",
     "text": [
      "ndim: 1\n",
      "shape: (10,)\n",
      "size: 10\n",
      "dtype: datetime64[ns]\n",
      "values:\n",
      "DatetimeIndex(['2021-04-21', '2021-04-22', '2021-04-23', '2021-04-24',\n",
      "               '2021-04-25', '2021-04-26', '2021-04-27', '2021-04-28',\n",
      "               '2021-04-29', '2021-04-30'],\n",
      "              dtype='datetime64[ns]', freq='D')\n",
      "\n"
     ]
    }
   ],
   "source": [
    "series_info(index)"
   ]
  },
  {
   "cell_type": "code",
   "execution_count": 20,
   "metadata": {},
   "outputs": [],
   "source": [
    "df = pd.DataFrame(\n",
    "    np.random.randn(num_samples, num_features),\n",
    "    index=index,\n",
    "    columns=[\"Weight\", \"Temp\", \"Speed\"],\n",
    ")"
   ]
  },
  {
   "cell_type": "code",
   "execution_count": 21,
   "metadata": {},
   "outputs": [
    {
     "name": "stdout",
     "output_type": "stream",
     "text": [
      "ndim: 2\n",
      "shape: (10, 3)\n",
      "size: 30\n",
      "dtype: Weight    float64\n",
      "Temp      float64\n",
      "Speed     float64\n",
      "dtype: object\n",
      "values:\n",
      "              Weight      Temp     Speed\n",
      "2021-04-21  1.764052  0.400157  0.978738\n",
      "2021-04-22  2.240893  1.867558 -0.977278\n",
      "2021-04-23  0.950088 -0.151357 -0.103219\n",
      "2021-04-24  0.410599  0.144044  1.454274\n",
      "2021-04-25  0.761038  0.121675  0.443863\n",
      "2021-04-26  0.333674  1.494079 -0.205158\n",
      "2021-04-27  0.313068 -0.854096 -2.552990\n",
      "2021-04-28  0.653619  0.864436 -0.742165\n",
      "2021-04-29  2.269755 -1.454366  0.045759\n",
      "2021-04-30 -0.187184  1.532779  1.469359\n",
      "\n"
     ]
    }
   ],
   "source": [
    "df_info(df)"
   ]
  },
  {
   "cell_type": "code",
   "execution_count": 22,
   "metadata": {},
   "outputs": [
    {
     "name": "stdout",
     "output_type": "stream",
     "text": [
      "ndim: 1\n",
      "shape: (10,)\n",
      "size: 10\n",
      "dtype: float64\n",
      "values:\n",
      "2021-04-21    1.764052\n",
      "2021-04-22    2.240893\n",
      "2021-04-23    0.950088\n",
      "2021-04-24    0.410599\n",
      "2021-04-25    0.761038\n",
      "2021-04-26    0.333674\n",
      "2021-04-27    0.313068\n",
      "2021-04-28    0.653619\n",
      "2021-04-29    2.269755\n",
      "2021-04-30   -0.187184\n",
      "Freq: D, Name: Weight, dtype: float64\n",
      "\n"
     ]
    }
   ],
   "source": [
    "series_info(df[\"Weight\"])"
   ]
  },
  {
   "cell_type": "code",
   "execution_count": 23,
   "metadata": {
    "collapsed": false
   },
   "outputs": [
    {
     "name": "stdout",
     "output_type": "stream",
     "text": [
      "9.50960158820738\n"
     ]
    }
   ],
   "source": [
    "print(np.sum(df[\"Weight\"]))"
   ]
  },
  {
   "cell_type": "markdown",
   "metadata": {},
   "source": [
    "### Data Information\n"
   ]
  },
  {
   "cell_type": "code",
   "execution_count": 24,
   "metadata": {},
   "outputs": [
    {
     "data": {
      "text/html": [
       "<div>\n",
       "<style scoped>\n",
       "    .dataframe tbody tr th:only-of-type {\n",
       "        vertical-align: middle;\n",
       "    }\n",
       "\n",
       "    .dataframe tbody tr th {\n",
       "        vertical-align: top;\n",
       "    }\n",
       "\n",
       "    .dataframe thead th {\n",
       "        text-align: right;\n",
       "    }\n",
       "</style>\n",
       "<table border=\"1\" class=\"dataframe\">\n",
       "  <thead>\n",
       "    <tr style=\"text-align: right;\">\n",
       "      <th></th>\n",
       "      <th>Weight</th>\n",
       "      <th>Temp</th>\n",
       "      <th>Speed</th>\n",
       "    </tr>\n",
       "  </thead>\n",
       "  <tbody>\n",
       "    <tr>\n",
       "      <th>2021-04-21</th>\n",
       "      <td>1.764052</td>\n",
       "      <td>0.400157</td>\n",
       "      <td>0.978738</td>\n",
       "    </tr>\n",
       "    <tr>\n",
       "      <th>2021-04-22</th>\n",
       "      <td>2.240893</td>\n",
       "      <td>1.867558</td>\n",
       "      <td>-0.977278</td>\n",
       "    </tr>\n",
       "    <tr>\n",
       "      <th>2021-04-23</th>\n",
       "      <td>0.950088</td>\n",
       "      <td>-0.151357</td>\n",
       "      <td>-0.103219</td>\n",
       "    </tr>\n",
       "  </tbody>\n",
       "</table>\n",
       "</div>"
      ],
      "text/plain": [
       "              Weight      Temp     Speed\n",
       "2021-04-21  1.764052  0.400157  0.978738\n",
       "2021-04-22  2.240893  1.867558 -0.977278\n",
       "2021-04-23  0.950088 -0.151357 -0.103219"
      ]
     },
     "execution_count": 24,
     "metadata": {},
     "output_type": "execute_result"
    }
   ],
   "source": [
    "df.head(3)"
   ]
  },
  {
   "cell_type": "code",
   "execution_count": 25,
   "metadata": {},
   "outputs": [
    {
     "data": {
      "text/html": [
       "<div>\n",
       "<style scoped>\n",
       "    .dataframe tbody tr th:only-of-type {\n",
       "        vertical-align: middle;\n",
       "    }\n",
       "\n",
       "    .dataframe tbody tr th {\n",
       "        vertical-align: top;\n",
       "    }\n",
       "\n",
       "    .dataframe thead th {\n",
       "        text-align: right;\n",
       "    }\n",
       "</style>\n",
       "<table border=\"1\" class=\"dataframe\">\n",
       "  <thead>\n",
       "    <tr style=\"text-align: right;\">\n",
       "      <th></th>\n",
       "      <th>Weight</th>\n",
       "      <th>Temp</th>\n",
       "      <th>Speed</th>\n",
       "    </tr>\n",
       "  </thead>\n",
       "  <tbody>\n",
       "    <tr>\n",
       "      <th>2021-04-28</th>\n",
       "      <td>0.653619</td>\n",
       "      <td>0.864436</td>\n",
       "      <td>-0.742165</td>\n",
       "    </tr>\n",
       "    <tr>\n",
       "      <th>2021-04-29</th>\n",
       "      <td>2.269755</td>\n",
       "      <td>-1.454366</td>\n",
       "      <td>0.045759</td>\n",
       "    </tr>\n",
       "    <tr>\n",
       "      <th>2021-04-30</th>\n",
       "      <td>-0.187184</td>\n",
       "      <td>1.532779</td>\n",
       "      <td>1.469359</td>\n",
       "    </tr>\n",
       "  </tbody>\n",
       "</table>\n",
       "</div>"
      ],
      "text/plain": [
       "              Weight      Temp     Speed\n",
       "2021-04-28  0.653619  0.864436 -0.742165\n",
       "2021-04-29  2.269755 -1.454366  0.045759\n",
       "2021-04-30 -0.187184  1.532779  1.469359"
      ]
     },
     "execution_count": 25,
     "metadata": {},
     "output_type": "execute_result"
    }
   ],
   "source": [
    "df.tail(3)"
   ]
  },
  {
   "cell_type": "markdown",
   "metadata": {},
   "source": [
    "### Attributes\n"
   ]
  },
  {
   "cell_type": "code",
   "execution_count": 26,
   "metadata": {},
   "outputs": [
    {
     "name": "stdout",
     "output_type": "stream",
     "text": [
      "Index(['Weight', 'Temp', 'Speed'], dtype='object')\n",
      "Index(['weight', 'temp', 'speed'], dtype='object')\n"
     ]
    }
   ],
   "source": [
    "print(df.columns)\n",
    "df.columns = [x.lower() for x in df.columns]\n",
    "print(df.columns)"
   ]
  },
  {
   "cell_type": "code",
   "execution_count": 27,
   "metadata": {},
   "outputs": [
    {
     "name": "stdout",
     "output_type": "stream",
     "text": [
      "<class 'pandas.core.arrays.numpy_.NumpyExtensionArray'>\n",
      "<NumpyExtensionArray>\n",
      "[0, 0, 1, 2, 3]\n",
      "Length: 5, dtype: int64\n"
     ]
    }
   ],
   "source": [
    "print(type(s.array))\n",
    "print(s.array)"
   ]
  },
  {
   "cell_type": "code",
   "execution_count": 28,
   "metadata": {},
   "outputs": [
    {
     "name": "stdout",
     "output_type": "stream",
     "text": [
      "<class 'numpy.ndarray'>\n",
      "[0 0 1 2 3]\n"
     ]
    }
   ],
   "source": [
    "print(type(s.to_numpy()))\n",
    "print(s.to_numpy())"
   ]
  },
  {
   "cell_type": "markdown",
   "metadata": {},
   "source": [
    "### Iterating over Series\n"
   ]
  },
  {
   "cell_type": "code",
   "execution_count": 29,
   "metadata": {},
   "outputs": [
    {
     "name": "stdout",
     "output_type": "stream",
     "text": [
      "2021-04-21    1.764052\n",
      "2021-04-22    2.240893\n",
      "2021-04-23    0.950088\n",
      "2021-04-24    0.410599\n",
      "2021-04-25    0.761038\n",
      "2021-04-26    0.333674\n",
      "2021-04-27    0.313068\n",
      "2021-04-28    0.653619\n",
      "2021-04-29    2.269755\n",
      "2021-04-30   -0.187184\n",
      "Freq: D, Name: weight, dtype: float64\n"
     ]
    }
   ],
   "source": [
    "print(df[\"weight\"])"
   ]
  },
  {
   "cell_type": "code",
   "execution_count": 30,
   "metadata": {},
   "outputs": [
    {
     "name": "stdout",
     "output_type": "stream",
     "text": [
      "1.764052345967664\n",
      "2.240893199201458\n",
      "0.9500884175255894\n",
      "0.41059850193837233\n",
      "0.7610377251469934\n",
      "0.33367432737426683\n",
      "0.31306770165090136\n",
      "0.6536185954403606\n",
      "2.2697546239876076\n",
      "-0.1871838500258336\n"
     ]
    }
   ],
   "source": [
    "for weight in df[\"weight\"]:\n",
    "    print(weight)"
   ]
  },
  {
   "cell_type": "code",
   "execution_count": 31,
   "metadata": {},
   "outputs": [],
   "source": [
    "s2 = df[\"weight\"]"
   ]
  },
  {
   "cell_type": "code",
   "execution_count": 32,
   "metadata": {},
   "outputs": [
    {
     "name": "stdout",
     "output_type": "stream",
     "text": [
      "2021-04-21 00:00:00 1.764052345967664\n",
      "2021-04-22 00:00:00 2.240893199201458\n",
      "2021-04-23 00:00:00 0.9500884175255894\n",
      "2021-04-24 00:00:00 0.41059850193837233\n",
      "2021-04-25 00:00:00 0.7610377251469934\n",
      "2021-04-26 00:00:00 0.33367432737426683\n",
      "2021-04-27 00:00:00 0.31306770165090136\n",
      "2021-04-28 00:00:00 0.6536185954403606\n",
      "2021-04-29 00:00:00 2.2697546239876076\n",
      "2021-04-30 00:00:00 -0.1871838500258336\n"
     ]
    }
   ],
   "source": [
    "for v1, v2 in s2.items():\n",
    "    print(v1, v2)"
   ]
  },
  {
   "cell_type": "markdown",
   "metadata": {},
   "source": [
    "### Iterating over Data Frames\n"
   ]
  },
  {
   "cell_type": "code",
   "execution_count": 33,
   "metadata": {},
   "outputs": [
    {
     "name": "stdout",
     "output_type": "stream",
     "text": [
      "              weight      temp     speed\n",
      "2021-04-21  1.764052  0.400157  0.978738\n",
      "2021-04-22  2.240893  1.867558 -0.977278\n",
      "2021-04-23  0.950088 -0.151357 -0.103219\n",
      "2021-04-24  0.410599  0.144044  1.454274\n",
      "2021-04-25  0.761038  0.121675  0.443863\n",
      "2021-04-26  0.333674  1.494079 -0.205158\n",
      "2021-04-27  0.313068 -0.854096 -2.552990\n",
      "2021-04-28  0.653619  0.864436 -0.742165\n",
      "2021-04-29  2.269755 -1.454366  0.045759\n",
      "2021-04-30 -0.187184  1.532779  1.469359\n"
     ]
    }
   ],
   "source": [
    "print(df)"
   ]
  },
  {
   "cell_type": "code",
   "execution_count": 34,
   "metadata": {},
   "outputs": [
    {
     "name": "stdout",
     "output_type": "stream",
     "text": [
      "weight\n",
      "temp\n",
      "speed\n"
     ]
    }
   ],
   "source": [
    "for v in df:\n",
    "    print(v)"
   ]
  },
  {
   "cell_type": "code",
   "execution_count": 35,
   "metadata": {},
   "outputs": [
    {
     "name": "stdout",
     "output_type": "stream",
     "text": [
      "<class 'pandas._libs.tslibs.timestamps.Timestamp'>\n",
      "<class 'pandas.core.series.Series'>\n",
      "2021-04-21 00:00:00 weight    1.764052\n",
      "temp      0.400157\n",
      "speed     0.978738\n",
      "Name: 2021-04-21 00:00:00, dtype: float64 \n",
      "\n",
      "<class 'pandas._libs.tslibs.timestamps.Timestamp'>\n",
      "<class 'pandas.core.series.Series'>\n",
      "2021-04-22 00:00:00 weight    2.240893\n",
      "temp      1.867558\n",
      "speed    -0.977278\n",
      "Name: 2021-04-22 00:00:00, dtype: float64 \n",
      "\n",
      "<class 'pandas._libs.tslibs.timestamps.Timestamp'>\n",
      "<class 'pandas.core.series.Series'>\n",
      "2021-04-23 00:00:00 weight    0.950088\n",
      "temp     -0.151357\n",
      "speed    -0.103219\n",
      "Name: 2021-04-23 00:00:00, dtype: float64 \n",
      "\n",
      "<class 'pandas._libs.tslibs.timestamps.Timestamp'>\n",
      "<class 'pandas.core.series.Series'>\n",
      "2021-04-24 00:00:00 weight    0.410599\n",
      "temp      0.144044\n",
      "speed     1.454274\n",
      "Name: 2021-04-24 00:00:00, dtype: float64 \n",
      "\n",
      "<class 'pandas._libs.tslibs.timestamps.Timestamp'>\n",
      "<class 'pandas.core.series.Series'>\n",
      "2021-04-25 00:00:00 weight    0.761038\n",
      "temp      0.121675\n",
      "speed     0.443863\n",
      "Name: 2021-04-25 00:00:00, dtype: float64 \n",
      "\n",
      "<class 'pandas._libs.tslibs.timestamps.Timestamp'>\n",
      "<class 'pandas.core.series.Series'>\n",
      "2021-04-26 00:00:00 weight    0.333674\n",
      "temp      1.494079\n",
      "speed    -0.205158\n",
      "Name: 2021-04-26 00:00:00, dtype: float64 \n",
      "\n",
      "<class 'pandas._libs.tslibs.timestamps.Timestamp'>\n",
      "<class 'pandas.core.series.Series'>\n",
      "2021-04-27 00:00:00 weight    0.313068\n",
      "temp     -0.854096\n",
      "speed    -2.552990\n",
      "Name: 2021-04-27 00:00:00, dtype: float64 \n",
      "\n",
      "<class 'pandas._libs.tslibs.timestamps.Timestamp'>\n",
      "<class 'pandas.core.series.Series'>\n",
      "2021-04-28 00:00:00 weight    0.653619\n",
      "temp      0.864436\n",
      "speed    -0.742165\n",
      "Name: 2021-04-28 00:00:00, dtype: float64 \n",
      "\n",
      "<class 'pandas._libs.tslibs.timestamps.Timestamp'>\n",
      "<class 'pandas.core.series.Series'>\n",
      "2021-04-29 00:00:00 weight    2.269755\n",
      "temp     -1.454366\n",
      "speed     0.045759\n",
      "Name: 2021-04-29 00:00:00, dtype: float64 \n",
      "\n",
      "<class 'pandas._libs.tslibs.timestamps.Timestamp'>\n",
      "<class 'pandas.core.series.Series'>\n",
      "2021-04-30 00:00:00 weight   -0.187184\n",
      "temp      1.532779\n",
      "speed     1.469359\n",
      "Name: 2021-04-30 00:00:00, dtype: float64 \n",
      "\n"
     ]
    }
   ],
   "source": [
    "for key, val in df.iterrows():\n",
    "    print(type(key))\n",
    "    print(type(val))\n",
    "    print(key, val, \"\\n\")"
   ]
  },
  {
   "attachments": {},
   "cell_type": "markdown",
   "metadata": {},
   "source": [
    "#### Indexing\n",
    "\n",
    "`.loc` is label based, but may also be used with a boolean array.  \n",
    ".loc will raise KeyError when the items are not found.\n",
    "\n",
    "`.iloc` is primarily integer position based, but may also be used with a boolean array.  \n",
    ".iloc will raise IndexError if a requested indexer is out-of-bounds.\n",
    "\n",
    "| Object Type | Indexers                             |\n",
    "| ----------- | ------------------------------------ |\n",
    "| Series      | s.loc\\[indexer\\]                     |\n",
    "| DataFrame   | df.loc\\[row_indexer,column_indexer\\] |\n",
    "\n",
    "##### Standard Indexing\n",
    "\n",
    "| Object Type | Selection        | Return Value Type               |\n",
    "| ----------- | ---------------- | ------------------------------- |\n",
    "| Series      | series\\[label\\]  | scalar value                    |\n",
    "| DataFrame   | frame\\[colname\\] | Series corresponding to colname |\n"
   ]
  },
  {
   "cell_type": "code",
   "execution_count": 36,
   "metadata": {},
   "outputs": [
    {
     "name": "stdout",
     "output_type": "stream",
     "text": [
      "2021-04-21    1.764052\n",
      "2021-04-22    2.240893\n",
      "2021-04-23    0.950088\n",
      "2021-04-24    0.410599\n",
      "2021-04-25    0.761038\n",
      "2021-04-26    0.333674\n",
      "2021-04-27    0.313068\n",
      "2021-04-28    0.653619\n",
      "2021-04-29    2.269755\n",
      "2021-04-30   -0.187184\n",
      "Freq: D, Name: weight, dtype: float64\n"
     ]
    }
   ],
   "source": [
    "s = df[\"weight\"]\n",
    "\n",
    "print(s)"
   ]
  },
  {
   "cell_type": "code",
   "execution_count": 37,
   "metadata": {},
   "outputs": [
    {
     "name": "stdout",
     "output_type": "stream",
     "text": [
      "1.764052345967664\n",
      "1.764052345967664\n"
     ]
    },
    {
     "name": "stderr",
     "output_type": "stream",
     "text": [
      "C:\\Users\\Jan\\AppData\\Local\\Temp\\ipykernel_19948\\1664320181.py:1: FutureWarning: Series.__getitem__ treating keys as positions is deprecated. In a future version, integer keys will always be treated as labels (consistent with DataFrame behavior). To access a value by position, use `ser.iloc[pos]`\n",
      "  print(s[0])\n"
     ]
    }
   ],
   "source": [
    "print(s[0])\n",
    "print(s[\"2021-04-21\"])"
   ]
  },
  {
   "cell_type": "code",
   "execution_count": 38,
   "metadata": {},
   "outputs": [
    {
     "name": "stdout",
     "output_type": "stream",
     "text": [
      "              weight      temp     speed\n",
      "2021-04-21  1.764052  0.400157  0.978738\n",
      "              weight      temp     speed\n",
      "2021-04-21  0.400157  1.764052  0.978738\n"
     ]
    }
   ],
   "source": [
    "print(df.head(1))\n",
    "\n",
    "df[[\"weight\", \"temp\"]] = df[[\"temp\", \"weight\"]]\n",
    "\n",
    "print(df.head(1))"
   ]
  },
  {
   "cell_type": "code",
   "execution_count": 39,
   "metadata": {},
   "outputs": [
    {
     "name": "stdout",
     "output_type": "stream",
     "text": [
      "              weight      temp     speed\n",
      "2021-04-22  1.867558  2.240893 -0.977278\n",
      "2021-04-23 -0.151357  0.950088 -0.103219\n",
      "2021-04-24  0.144044  0.410599  1.454274\n",
      "2021-04-25  0.121675  0.761038  0.443863\n"
     ]
    }
   ],
   "source": [
    "print(df.loc[\"2021-04-22\":\"2021-04-25\"])"
   ]
  },
  {
   "cell_type": "code",
   "execution_count": 40,
   "metadata": {},
   "outputs": [
    {
     "name": "stdout",
     "output_type": "stream",
     "text": [
      "2021-04-22    1.867558\n",
      "2021-04-23   -0.151357\n",
      "2021-04-24    0.144044\n",
      "2021-04-25    0.121675\n",
      "Freq: D, Name: weight, dtype: float64\n"
     ]
    }
   ],
   "source": [
    "print(df.loc[\"2021-04-22\":\"2021-04-25\", \"weight\"])"
   ]
  },
  {
   "cell_type": "code",
   "execution_count": 41,
   "metadata": {},
   "outputs": [
    {
     "name": "stdout",
     "output_type": "stream",
     "text": [
      "2021-04-22    1.867558\n",
      "2021-04-23   -0.151357\n",
      "2021-04-24    0.144044\n",
      "2021-04-25    0.121675\n",
      "Freq: D, Name: weight, dtype: float64\n"
     ]
    }
   ],
   "source": [
    "print(df.loc[\"2021-04-22\":\"2021-04-25\"][\"weight\"])"
   ]
  },
  {
   "cell_type": "code",
   "execution_count": 42,
   "metadata": {},
   "outputs": [
    {
     "name": "stdout",
     "output_type": "stream",
     "text": [
      "              weight      temp     speed\n",
      "2021-04-22  1.867558  2.240893 -0.977278\n",
      "2021-04-23 -0.151357  0.950088 -0.103219\n",
      "2021-04-24  0.144044  0.410599  1.454274\n",
      "2021-04-25  0.121675  0.761038  0.443863\n"
     ]
    }
   ],
   "source": [
    "print(df.iloc[1:5])"
   ]
  },
  {
   "cell_type": "code",
   "execution_count": 43,
   "metadata": {},
   "outputs": [
    {
     "name": "stdout",
     "output_type": "stream",
     "text": [
      "2021-04-22    1.867558\n",
      "2021-04-23   -0.151357\n",
      "2021-04-24    0.144044\n",
      "2021-04-25    0.121675\n",
      "Freq: D, Name: weight, dtype: float64\n"
     ]
    }
   ],
   "source": [
    "print(df.iloc[1:5, 0])"
   ]
  }
 ],
 "metadata": {
  "anaconda-cloud": {},
  "kernelspec": {
   "display_name": "pyData",
   "language": "python",
   "name": "python3"
  },
  "language_info": {
   "codemirror_mode": {
    "name": "ipython",
    "version": 3
   },
   "file_extension": ".py",
   "mimetype": "text/x-python",
   "name": "python",
   "nbconvert_exporter": "python",
   "pygments_lexer": "ipython3",
   "version": "3.11.5"
  },
  "vscode": {
   "interpreter": {
    "hash": "f7005c152070cabaaf593843feaa8c4a4a04ad569523413e5d5955ceb49c894d"
   }
  }
 },
 "nbformat": 4,
 "nbformat_minor": 0
}
