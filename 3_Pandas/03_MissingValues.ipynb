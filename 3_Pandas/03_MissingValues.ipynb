{
 "cells": [
  {
   "cell_type": "code",
   "execution_count": 1,
   "metadata": {},
   "outputs": [],
   "source": [
    "import numpy as np\n",
    "import pandas as pd"
   ]
  },
  {
   "attachments": {},
   "cell_type": "markdown",
   "metadata": {},
   "source": [
    "# Missing Data\n",
    "\n",
    "NaN is the default missing value marker for reasons of computational speed and convenience.\n",
    "\n",
    "Pandas will be able to easily detect a NaN value with data of different types:\n",
    "\n",
    "-   floating point\n",
    "-   integer\n",
    "-   boolean\n",
    "-   general object\n"
   ]
  },
  {
   "cell_type": "code",
   "execution_count": 2,
   "metadata": {
    "collapsed": true
   },
   "outputs": [],
   "source": [
    "np.random.seed(0)"
   ]
  },
  {
   "cell_type": "code",
   "execution_count": 3,
   "metadata": {
    "collapsed": false
   },
   "outputs": [
    {
     "name": "stdout",
     "output_type": "stream",
     "text": [
      "nan\n"
     ]
    }
   ],
   "source": [
    "print(1 + np.nan)"
   ]
  },
  {
   "cell_type": "code",
   "execution_count": 4,
   "metadata": {
    "collapsed": false
   },
   "outputs": [
    {
     "name": "stdout",
     "output_type": "stream",
     "text": [
      "nan\n"
     ]
    }
   ],
   "source": [
    "print(0 * np.nan)"
   ]
  },
  {
   "cell_type": "code",
   "execution_count": 5,
   "metadata": {},
   "outputs": [
    {
     "name": "stdout",
     "output_type": "stream",
     "text": [
      "True\n"
     ]
    }
   ],
   "source": [
    "print(np.nan != np.nan)"
   ]
  },
  {
   "cell_type": "code",
   "execution_count": 6,
   "metadata": {},
   "outputs": [
    {
     "name": "stdout",
     "output_type": "stream",
     "text": [
      "False\n"
     ]
    }
   ],
   "source": [
    "print(np.nan == np.nan)"
   ]
  },
  {
   "cell_type": "code",
   "execution_count": 7,
   "metadata": {
    "collapsed": false
   },
   "outputs": [
    {
     "name": "stdout",
     "output_type": "stream",
     "text": [
      "[1 None 3 4]\n"
     ]
    }
   ],
   "source": [
    "data = np.array([1, None, 3, 4])\n",
    "\n",
    "print(data)"
   ]
  },
  {
   "cell_type": "code",
   "execution_count": 8,
   "metadata": {},
   "outputs": [
    {
     "name": "stdout",
     "output_type": "stream",
     "text": [
      "[ 1. nan  3.  4.]\n"
     ]
    }
   ],
   "source": [
    "data = np.array([1, np.nan, 3, 4])\n",
    "\n",
    "print(data)"
   ]
  },
  {
   "cell_type": "code",
   "execution_count": 9,
   "metadata": {
    "collapsed": false
   },
   "outputs": [
    {
     "name": "stdout",
     "output_type": "stream",
     "text": [
      "nan\n"
     ]
    }
   ],
   "source": [
    "print(np.sum(data))"
   ]
  },
  {
   "cell_type": "code",
   "execution_count": 10,
   "metadata": {
    "collapsed": false
   },
   "outputs": [
    {
     "name": "stdout",
     "output_type": "stream",
     "text": [
      "8.0\n"
     ]
    }
   ],
   "source": [
    "print(np.nansum(data))"
   ]
  },
  {
   "cell_type": "code",
   "execution_count": 11,
   "metadata": {
    "collapsed": false
   },
   "outputs": [
    {
     "data": {
      "text/plain": [
       "0    1.0\n",
       "1    NaN\n",
       "2    2.0\n",
       "3    NaN\n",
       "dtype: float64"
      ]
     },
     "execution_count": 11,
     "metadata": {},
     "output_type": "execute_result"
    }
   ],
   "source": [
    "pd.Series([1, np.nan, 2, None])"
   ]
  },
  {
   "cell_type": "markdown",
   "metadata": {},
   "source": [
    "## Pandas NaN Examples\n"
   ]
  },
  {
   "cell_type": "code",
   "execution_count": 12,
   "metadata": {},
   "outputs": [],
   "source": [
    "def highlight_nan(\n",
    "    data: pd.DataFrame,\n",
    "    color: str,\n",
    ") -> pd.DataFrame:\n",
    "    attr = f\"background-color: {color}\"\n",
    "\n",
    "    is_nan = pd.isna(data)\n",
    "\n",
    "    return pd.DataFrame(\n",
    "        np.where(is_nan, attr, \"\"), index=data.index, columns=data.columns\n",
    "    )"
   ]
  },
  {
   "cell_type": "code",
   "execution_count": 13,
   "metadata": {},
   "outputs": [],
   "source": [
    "def df_info(\n",
    "    df: pd.DataFrame,\n",
    ") -> None:\n",
    "    return df.style.apply(highlight_nan, color=\"darkorange\", axis=None)"
   ]
  },
  {
   "cell_type": "code",
   "execution_count": 14,
   "metadata": {
    "collapsed": false
   },
   "outputs": [],
   "source": [
    "df = pd.DataFrame(\n",
    "    np.random.randn(5, 3),\n",
    "    index=[\"a\", \"c\", \"e\", \"f\", \"h\"],\n",
    "    columns=[\"one\", \"two\", \"three\"],\n",
    ")"
   ]
  },
  {
   "cell_type": "code",
   "execution_count": 15,
   "metadata": {},
   "outputs": [
    {
     "data": {
      "text/html": [
       "<style type=\"text/css\">\n",
       "</style>\n",
       "<table id=\"T_bd722\">\n",
       "  <thead>\n",
       "    <tr>\n",
       "      <th class=\"blank level0\" >&nbsp;</th>\n",
       "      <th id=\"T_bd722_level0_col0\" class=\"col_heading level0 col0\" >one</th>\n",
       "      <th id=\"T_bd722_level0_col1\" class=\"col_heading level0 col1\" >two</th>\n",
       "      <th id=\"T_bd722_level0_col2\" class=\"col_heading level0 col2\" >three</th>\n",
       "    </tr>\n",
       "  </thead>\n",
       "  <tbody>\n",
       "    <tr>\n",
       "      <th id=\"T_bd722_level0_row0\" class=\"row_heading level0 row0\" >a</th>\n",
       "      <td id=\"T_bd722_row0_col0\" class=\"data row0 col0\" >1.764052</td>\n",
       "      <td id=\"T_bd722_row0_col1\" class=\"data row0 col1\" >0.400157</td>\n",
       "      <td id=\"T_bd722_row0_col2\" class=\"data row0 col2\" >0.978738</td>\n",
       "    </tr>\n",
       "    <tr>\n",
       "      <th id=\"T_bd722_level0_row1\" class=\"row_heading level0 row1\" >c</th>\n",
       "      <td id=\"T_bd722_row1_col0\" class=\"data row1 col0\" >2.240893</td>\n",
       "      <td id=\"T_bd722_row1_col1\" class=\"data row1 col1\" >1.867558</td>\n",
       "      <td id=\"T_bd722_row1_col2\" class=\"data row1 col2\" >-0.977278</td>\n",
       "    </tr>\n",
       "    <tr>\n",
       "      <th id=\"T_bd722_level0_row2\" class=\"row_heading level0 row2\" >e</th>\n",
       "      <td id=\"T_bd722_row2_col0\" class=\"data row2 col0\" >0.950088</td>\n",
       "      <td id=\"T_bd722_row2_col1\" class=\"data row2 col1\" >-0.151357</td>\n",
       "      <td id=\"T_bd722_row2_col2\" class=\"data row2 col2\" >-0.103219</td>\n",
       "    </tr>\n",
       "    <tr>\n",
       "      <th id=\"T_bd722_level0_row3\" class=\"row_heading level0 row3\" >f</th>\n",
       "      <td id=\"T_bd722_row3_col0\" class=\"data row3 col0\" >0.410599</td>\n",
       "      <td id=\"T_bd722_row3_col1\" class=\"data row3 col1\" >0.144044</td>\n",
       "      <td id=\"T_bd722_row3_col2\" class=\"data row3 col2\" >1.454274</td>\n",
       "    </tr>\n",
       "    <tr>\n",
       "      <th id=\"T_bd722_level0_row4\" class=\"row_heading level0 row4\" >h</th>\n",
       "      <td id=\"T_bd722_row4_col0\" class=\"data row4 col0\" >0.761038</td>\n",
       "      <td id=\"T_bd722_row4_col1\" class=\"data row4 col1\" >0.121675</td>\n",
       "      <td id=\"T_bd722_row4_col2\" class=\"data row4 col2\" >0.443863</td>\n",
       "    </tr>\n",
       "  </tbody>\n",
       "</table>\n"
      ],
      "text/plain": [
       "<pandas.io.formats.style.Styler at 0x22e19187690>"
      ]
     },
     "execution_count": 15,
     "metadata": {},
     "output_type": "execute_result"
    }
   ],
   "source": [
    "df_info(df)"
   ]
  },
  {
   "cell_type": "code",
   "execution_count": 16,
   "metadata": {},
   "outputs": [],
   "source": [
    "df[\"one\"][\"a\"] = None\n",
    "df[\"two\"][\"f\"] = None"
   ]
  },
  {
   "cell_type": "code",
   "execution_count": 17,
   "metadata": {},
   "outputs": [
    {
     "data": {
      "text/html": [
       "<style type=\"text/css\">\n",
       "#T_5403d_row0_col0, #T_5403d_row3_col1 {\n",
       "  background-color: darkorange;\n",
       "}\n",
       "</style>\n",
       "<table id=\"T_5403d\">\n",
       "  <thead>\n",
       "    <tr>\n",
       "      <th class=\"blank level0\" >&nbsp;</th>\n",
       "      <th id=\"T_5403d_level0_col0\" class=\"col_heading level0 col0\" >one</th>\n",
       "      <th id=\"T_5403d_level0_col1\" class=\"col_heading level0 col1\" >two</th>\n",
       "      <th id=\"T_5403d_level0_col2\" class=\"col_heading level0 col2\" >three</th>\n",
       "    </tr>\n",
       "  </thead>\n",
       "  <tbody>\n",
       "    <tr>\n",
       "      <th id=\"T_5403d_level0_row0\" class=\"row_heading level0 row0\" >a</th>\n",
       "      <td id=\"T_5403d_row0_col0\" class=\"data row0 col0\" >nan</td>\n",
       "      <td id=\"T_5403d_row0_col1\" class=\"data row0 col1\" >0.400157</td>\n",
       "      <td id=\"T_5403d_row0_col2\" class=\"data row0 col2\" >0.978738</td>\n",
       "    </tr>\n",
       "    <tr>\n",
       "      <th id=\"T_5403d_level0_row1\" class=\"row_heading level0 row1\" >c</th>\n",
       "      <td id=\"T_5403d_row1_col0\" class=\"data row1 col0\" >2.240893</td>\n",
       "      <td id=\"T_5403d_row1_col1\" class=\"data row1 col1\" >1.867558</td>\n",
       "      <td id=\"T_5403d_row1_col2\" class=\"data row1 col2\" >-0.977278</td>\n",
       "    </tr>\n",
       "    <tr>\n",
       "      <th id=\"T_5403d_level0_row2\" class=\"row_heading level0 row2\" >e</th>\n",
       "      <td id=\"T_5403d_row2_col0\" class=\"data row2 col0\" >0.950088</td>\n",
       "      <td id=\"T_5403d_row2_col1\" class=\"data row2 col1\" >-0.151357</td>\n",
       "      <td id=\"T_5403d_row2_col2\" class=\"data row2 col2\" >-0.103219</td>\n",
       "    </tr>\n",
       "    <tr>\n",
       "      <th id=\"T_5403d_level0_row3\" class=\"row_heading level0 row3\" >f</th>\n",
       "      <td id=\"T_5403d_row3_col0\" class=\"data row3 col0\" >0.410599</td>\n",
       "      <td id=\"T_5403d_row3_col1\" class=\"data row3 col1\" >nan</td>\n",
       "      <td id=\"T_5403d_row3_col2\" class=\"data row3 col2\" >1.454274</td>\n",
       "    </tr>\n",
       "    <tr>\n",
       "      <th id=\"T_5403d_level0_row4\" class=\"row_heading level0 row4\" >h</th>\n",
       "      <td id=\"T_5403d_row4_col0\" class=\"data row4 col0\" >0.761038</td>\n",
       "      <td id=\"T_5403d_row4_col1\" class=\"data row4 col1\" >0.121675</td>\n",
       "      <td id=\"T_5403d_row4_col2\" class=\"data row4 col2\" >0.443863</td>\n",
       "    </tr>\n",
       "  </tbody>\n",
       "</table>\n"
      ],
      "text/plain": [
       "<pandas.io.formats.style.Styler at 0x22e7800ee50>"
      ]
     },
     "execution_count": 17,
     "metadata": {},
     "output_type": "execute_result"
    }
   ],
   "source": [
    "df_info(df)"
   ]
  },
  {
   "cell_type": "code",
   "execution_count": 18,
   "metadata": {},
   "outputs": [
    {
     "data": {
      "text/html": [
       "<style type=\"text/css\">\n",
       "</style>\n",
       "<table id=\"T_d92d4\">\n",
       "  <thead>\n",
       "    <tr>\n",
       "      <th class=\"blank level0\" >&nbsp;</th>\n",
       "      <th id=\"T_d92d4_level0_col0\" class=\"col_heading level0 col0\" >one</th>\n",
       "      <th id=\"T_d92d4_level0_col1\" class=\"col_heading level0 col1\" >two</th>\n",
       "      <th id=\"T_d92d4_level0_col2\" class=\"col_heading level0 col2\" >three</th>\n",
       "    </tr>\n",
       "  </thead>\n",
       "  <tbody>\n",
       "    <tr>\n",
       "      <th id=\"T_d92d4_level0_row0\" class=\"row_heading level0 row0\" >a</th>\n",
       "      <td id=\"T_d92d4_row0_col0\" class=\"data row0 col0\" >True</td>\n",
       "      <td id=\"T_d92d4_row0_col1\" class=\"data row0 col1\" >False</td>\n",
       "      <td id=\"T_d92d4_row0_col2\" class=\"data row0 col2\" >False</td>\n",
       "    </tr>\n",
       "    <tr>\n",
       "      <th id=\"T_d92d4_level0_row1\" class=\"row_heading level0 row1\" >c</th>\n",
       "      <td id=\"T_d92d4_row1_col0\" class=\"data row1 col0\" >False</td>\n",
       "      <td id=\"T_d92d4_row1_col1\" class=\"data row1 col1\" >False</td>\n",
       "      <td id=\"T_d92d4_row1_col2\" class=\"data row1 col2\" >False</td>\n",
       "    </tr>\n",
       "    <tr>\n",
       "      <th id=\"T_d92d4_level0_row2\" class=\"row_heading level0 row2\" >e</th>\n",
       "      <td id=\"T_d92d4_row2_col0\" class=\"data row2 col0\" >False</td>\n",
       "      <td id=\"T_d92d4_row2_col1\" class=\"data row2 col1\" >False</td>\n",
       "      <td id=\"T_d92d4_row2_col2\" class=\"data row2 col2\" >False</td>\n",
       "    </tr>\n",
       "    <tr>\n",
       "      <th id=\"T_d92d4_level0_row3\" class=\"row_heading level0 row3\" >f</th>\n",
       "      <td id=\"T_d92d4_row3_col0\" class=\"data row3 col0\" >False</td>\n",
       "      <td id=\"T_d92d4_row3_col1\" class=\"data row3 col1\" >True</td>\n",
       "      <td id=\"T_d92d4_row3_col2\" class=\"data row3 col2\" >False</td>\n",
       "    </tr>\n",
       "    <tr>\n",
       "      <th id=\"T_d92d4_level0_row4\" class=\"row_heading level0 row4\" >h</th>\n",
       "      <td id=\"T_d92d4_row4_col0\" class=\"data row4 col0\" >False</td>\n",
       "      <td id=\"T_d92d4_row4_col1\" class=\"data row4 col1\" >False</td>\n",
       "      <td id=\"T_d92d4_row4_col2\" class=\"data row4 col2\" >False</td>\n",
       "    </tr>\n",
       "  </tbody>\n",
       "</table>\n"
      ],
      "text/plain": [
       "<pandas.io.formats.style.Styler at 0x22e7fd2e9d0>"
      ]
     },
     "execution_count": 18,
     "metadata": {},
     "output_type": "execute_result"
    }
   ],
   "source": [
    "df_info(pd.isna(df))"
   ]
  },
  {
   "cell_type": "code",
   "execution_count": 19,
   "metadata": {},
   "outputs": [
    {
     "data": {
      "text/plain": [
       "a     True\n",
       "c    False\n",
       "e    False\n",
       "f     True\n",
       "h    False\n",
       "dtype: bool"
      ]
     },
     "execution_count": 19,
     "metadata": {},
     "output_type": "execute_result"
    }
   ],
   "source": [
    "df_check = pd.isna(df)\n",
    "\n",
    "df_check.any(axis=1)"
   ]
  },
  {
   "cell_type": "markdown",
   "metadata": {},
   "source": [
    "#### Remove NaN Values\n"
   ]
  },
  {
   "cell_type": "code",
   "execution_count": 20,
   "metadata": {
    "collapsed": false
   },
   "outputs": [
    {
     "data": {
      "text/html": [
       "<style type=\"text/css\">\n",
       "</style>\n",
       "<table id=\"T_85319\">\n",
       "  <thead>\n",
       "    <tr>\n",
       "      <th class=\"blank level0\" >&nbsp;</th>\n",
       "      <th id=\"T_85319_level0_col0\" class=\"col_heading level0 col0\" >one</th>\n",
       "      <th id=\"T_85319_level0_col1\" class=\"col_heading level0 col1\" >two</th>\n",
       "      <th id=\"T_85319_level0_col2\" class=\"col_heading level0 col2\" >three</th>\n",
       "    </tr>\n",
       "  </thead>\n",
       "  <tbody>\n",
       "    <tr>\n",
       "      <th id=\"T_85319_level0_row0\" class=\"row_heading level0 row0\" >c</th>\n",
       "      <td id=\"T_85319_row0_col0\" class=\"data row0 col0\" >2.240893</td>\n",
       "      <td id=\"T_85319_row0_col1\" class=\"data row0 col1\" >1.867558</td>\n",
       "      <td id=\"T_85319_row0_col2\" class=\"data row0 col2\" >-0.977278</td>\n",
       "    </tr>\n",
       "    <tr>\n",
       "      <th id=\"T_85319_level0_row1\" class=\"row_heading level0 row1\" >e</th>\n",
       "      <td id=\"T_85319_row1_col0\" class=\"data row1 col0\" >0.950088</td>\n",
       "      <td id=\"T_85319_row1_col1\" class=\"data row1 col1\" >-0.151357</td>\n",
       "      <td id=\"T_85319_row1_col2\" class=\"data row1 col2\" >-0.103219</td>\n",
       "    </tr>\n",
       "    <tr>\n",
       "      <th id=\"T_85319_level0_row2\" class=\"row_heading level0 row2\" >h</th>\n",
       "      <td id=\"T_85319_row2_col0\" class=\"data row2 col0\" >0.761038</td>\n",
       "      <td id=\"T_85319_row2_col1\" class=\"data row2 col1\" >0.121675</td>\n",
       "      <td id=\"T_85319_row2_col2\" class=\"data row2 col2\" >0.443863</td>\n",
       "    </tr>\n",
       "  </tbody>\n",
       "</table>\n"
      ],
      "text/plain": [
       "<pandas.io.formats.style.Styler at 0x22e192f2f10>"
      ]
     },
     "execution_count": 20,
     "metadata": {},
     "output_type": "execute_result"
    }
   ],
   "source": [
    "df_info(df.dropna())"
   ]
  },
  {
   "cell_type": "code",
   "execution_count": 21,
   "metadata": {
    "collapsed": false
   },
   "outputs": [
    {
     "data": {
      "text/html": [
       "<style type=\"text/css\">\n",
       "</style>\n",
       "<table id=\"T_63677\">\n",
       "  <thead>\n",
       "    <tr>\n",
       "      <th class=\"blank level0\" >&nbsp;</th>\n",
       "      <th id=\"T_63677_level0_col0\" class=\"col_heading level0 col0\" >three</th>\n",
       "    </tr>\n",
       "  </thead>\n",
       "  <tbody>\n",
       "    <tr>\n",
       "      <th id=\"T_63677_level0_row0\" class=\"row_heading level0 row0\" >a</th>\n",
       "      <td id=\"T_63677_row0_col0\" class=\"data row0 col0\" >0.978738</td>\n",
       "    </tr>\n",
       "    <tr>\n",
       "      <th id=\"T_63677_level0_row1\" class=\"row_heading level0 row1\" >c</th>\n",
       "      <td id=\"T_63677_row1_col0\" class=\"data row1 col0\" >-0.977278</td>\n",
       "    </tr>\n",
       "    <tr>\n",
       "      <th id=\"T_63677_level0_row2\" class=\"row_heading level0 row2\" >e</th>\n",
       "      <td id=\"T_63677_row2_col0\" class=\"data row2 col0\" >-0.103219</td>\n",
       "    </tr>\n",
       "    <tr>\n",
       "      <th id=\"T_63677_level0_row3\" class=\"row_heading level0 row3\" >f</th>\n",
       "      <td id=\"T_63677_row3_col0\" class=\"data row3 col0\" >1.454274</td>\n",
       "    </tr>\n",
       "    <tr>\n",
       "      <th id=\"T_63677_level0_row4\" class=\"row_heading level0 row4\" >h</th>\n",
       "      <td id=\"T_63677_row4_col0\" class=\"data row4 col0\" >0.443863</td>\n",
       "    </tr>\n",
       "  </tbody>\n",
       "</table>\n"
      ],
      "text/plain": [
       "<pandas.io.formats.style.Styler at 0x22e7fd2e950>"
      ]
     },
     "execution_count": 21,
     "metadata": {},
     "output_type": "execute_result"
    }
   ],
   "source": [
    "df_info(df.dropna(axis=\"columns\"))"
   ]
  },
  {
   "cell_type": "code",
   "execution_count": 22,
   "metadata": {},
   "outputs": [
    {
     "data": {
      "text/html": [
       "<style type=\"text/css\">\n",
       "</style>\n",
       "<table id=\"T_b3347\">\n",
       "  <thead>\n",
       "    <tr>\n",
       "      <th class=\"blank level0\" >&nbsp;</th>\n",
       "      <th id=\"T_b3347_level0_col0\" class=\"col_heading level0 col0\" >one</th>\n",
       "      <th id=\"T_b3347_level0_col1\" class=\"col_heading level0 col1\" >two</th>\n",
       "      <th id=\"T_b3347_level0_col2\" class=\"col_heading level0 col2\" >three</th>\n",
       "    </tr>\n",
       "  </thead>\n",
       "  <tbody>\n",
       "    <tr>\n",
       "      <th id=\"T_b3347_level0_row0\" class=\"row_heading level0 row0\" >c</th>\n",
       "      <td id=\"T_b3347_row0_col0\" class=\"data row0 col0\" >2.240893</td>\n",
       "      <td id=\"T_b3347_row0_col1\" class=\"data row0 col1\" >1.867558</td>\n",
       "      <td id=\"T_b3347_row0_col2\" class=\"data row0 col2\" >-0.977278</td>\n",
       "    </tr>\n",
       "    <tr>\n",
       "      <th id=\"T_b3347_level0_row1\" class=\"row_heading level0 row1\" >e</th>\n",
       "      <td id=\"T_b3347_row1_col0\" class=\"data row1 col0\" >0.950088</td>\n",
       "      <td id=\"T_b3347_row1_col1\" class=\"data row1 col1\" >-0.151357</td>\n",
       "      <td id=\"T_b3347_row1_col2\" class=\"data row1 col2\" >-0.103219</td>\n",
       "    </tr>\n",
       "    <tr>\n",
       "      <th id=\"T_b3347_level0_row2\" class=\"row_heading level0 row2\" >h</th>\n",
       "      <td id=\"T_b3347_row2_col0\" class=\"data row2 col0\" >0.761038</td>\n",
       "      <td id=\"T_b3347_row2_col1\" class=\"data row2 col1\" >0.121675</td>\n",
       "      <td id=\"T_b3347_row2_col2\" class=\"data row2 col2\" >0.443863</td>\n",
       "    </tr>\n",
       "  </tbody>\n",
       "</table>\n"
      ],
      "text/plain": [
       "<pandas.io.formats.style.Styler at 0x22e192eb610>"
      ]
     },
     "execution_count": 22,
     "metadata": {},
     "output_type": "execute_result"
    }
   ],
   "source": [
    "df_info(df.dropna(axis=\"rows\"))"
   ]
  },
  {
   "attachments": {},
   "cell_type": "markdown",
   "metadata": {},
   "source": [
    "Operations with NaN Values\n",
    "\n",
    "-   When summing data, NA (missing) values will be treated as zero.\n",
    "-   If the data are all NA, the result will be 0.\n",
    "-   Cumulative methods like cumsum() and cumprod() ignore NA values by default.\n",
    "    -   To override this behaviour and include NA values, use skipna=False.\n"
   ]
  },
  {
   "cell_type": "code",
   "execution_count": 23,
   "metadata": {},
   "outputs": [
    {
     "data": {
      "text/html": [
       "<style type=\"text/css\">\n",
       "#T_c8249_row0_col0, #T_c8249_row3_col1 {\n",
       "  background-color: darkorange;\n",
       "}\n",
       "</style>\n",
       "<table id=\"T_c8249\">\n",
       "  <thead>\n",
       "    <tr>\n",
       "      <th class=\"blank level0\" >&nbsp;</th>\n",
       "      <th id=\"T_c8249_level0_col0\" class=\"col_heading level0 col0\" >one</th>\n",
       "      <th id=\"T_c8249_level0_col1\" class=\"col_heading level0 col1\" >two</th>\n",
       "      <th id=\"T_c8249_level0_col2\" class=\"col_heading level0 col2\" >three</th>\n",
       "    </tr>\n",
       "  </thead>\n",
       "  <tbody>\n",
       "    <tr>\n",
       "      <th id=\"T_c8249_level0_row0\" class=\"row_heading level0 row0\" >a</th>\n",
       "      <td id=\"T_c8249_row0_col0\" class=\"data row0 col0\" >nan</td>\n",
       "      <td id=\"T_c8249_row0_col1\" class=\"data row0 col1\" >0.400157</td>\n",
       "      <td id=\"T_c8249_row0_col2\" class=\"data row0 col2\" >0.978738</td>\n",
       "    </tr>\n",
       "    <tr>\n",
       "      <th id=\"T_c8249_level0_row1\" class=\"row_heading level0 row1\" >c</th>\n",
       "      <td id=\"T_c8249_row1_col0\" class=\"data row1 col0\" >2.240893</td>\n",
       "      <td id=\"T_c8249_row1_col1\" class=\"data row1 col1\" >1.867558</td>\n",
       "      <td id=\"T_c8249_row1_col2\" class=\"data row1 col2\" >-0.977278</td>\n",
       "    </tr>\n",
       "    <tr>\n",
       "      <th id=\"T_c8249_level0_row2\" class=\"row_heading level0 row2\" >e</th>\n",
       "      <td id=\"T_c8249_row2_col0\" class=\"data row2 col0\" >0.950088</td>\n",
       "      <td id=\"T_c8249_row2_col1\" class=\"data row2 col1\" >-0.151357</td>\n",
       "      <td id=\"T_c8249_row2_col2\" class=\"data row2 col2\" >-0.103219</td>\n",
       "    </tr>\n",
       "    <tr>\n",
       "      <th id=\"T_c8249_level0_row3\" class=\"row_heading level0 row3\" >f</th>\n",
       "      <td id=\"T_c8249_row3_col0\" class=\"data row3 col0\" >0.410599</td>\n",
       "      <td id=\"T_c8249_row3_col1\" class=\"data row3 col1\" >nan</td>\n",
       "      <td id=\"T_c8249_row3_col2\" class=\"data row3 col2\" >1.454274</td>\n",
       "    </tr>\n",
       "    <tr>\n",
       "      <th id=\"T_c8249_level0_row4\" class=\"row_heading level0 row4\" >h</th>\n",
       "      <td id=\"T_c8249_row4_col0\" class=\"data row4 col0\" >0.761038</td>\n",
       "      <td id=\"T_c8249_row4_col1\" class=\"data row4 col1\" >0.121675</td>\n",
       "      <td id=\"T_c8249_row4_col2\" class=\"data row4 col2\" >0.443863</td>\n",
       "    </tr>\n",
       "  </tbody>\n",
       "</table>\n"
      ],
      "text/plain": [
       "<pandas.io.formats.style.Styler at 0x22e19177b50>"
      ]
     },
     "execution_count": 23,
     "metadata": {},
     "output_type": "execute_result"
    }
   ],
   "source": [
    "df_info(df)"
   ]
  },
  {
   "cell_type": "code",
   "execution_count": 24,
   "metadata": {},
   "outputs": [
    {
     "name": "stdout",
     "output_type": "stream",
     "text": [
      "2.238033006712321\n"
     ]
    }
   ],
   "source": [
    "print(df[\"two\"].sum())"
   ]
  },
  {
   "cell_type": "code",
   "execution_count": 25,
   "metadata": {},
   "outputs": [
    {
     "name": "stdout",
     "output_type": "stream",
     "text": [
      "one      4.362618\n",
      "two      2.238033\n",
      "three    1.796378\n",
      "dtype: float64\n"
     ]
    }
   ],
   "source": [
    "print(df.sum())"
   ]
  },
  {
   "cell_type": "markdown",
   "metadata": {},
   "source": [
    "#### Fill NaN values\n"
   ]
  },
  {
   "cell_type": "code",
   "execution_count": 26,
   "metadata": {},
   "outputs": [
    {
     "data": {
      "text/html": [
       "<style type=\"text/css\">\n",
       "</style>\n",
       "<table id=\"T_c9f53\">\n",
       "  <thead>\n",
       "    <tr>\n",
       "      <th class=\"blank level0\" >&nbsp;</th>\n",
       "      <th id=\"T_c9f53_level0_col0\" class=\"col_heading level0 col0\" >one</th>\n",
       "      <th id=\"T_c9f53_level0_col1\" class=\"col_heading level0 col1\" >two</th>\n",
       "      <th id=\"T_c9f53_level0_col2\" class=\"col_heading level0 col2\" >three</th>\n",
       "    </tr>\n",
       "  </thead>\n",
       "  <tbody>\n",
       "    <tr>\n",
       "      <th id=\"T_c9f53_level0_row0\" class=\"row_heading level0 row0\" >a</th>\n",
       "      <td id=\"T_c9f53_row0_col0\" class=\"data row0 col0\" >0.000000</td>\n",
       "      <td id=\"T_c9f53_row0_col1\" class=\"data row0 col1\" >0.400157</td>\n",
       "      <td id=\"T_c9f53_row0_col2\" class=\"data row0 col2\" >0.978738</td>\n",
       "    </tr>\n",
       "    <tr>\n",
       "      <th id=\"T_c9f53_level0_row1\" class=\"row_heading level0 row1\" >c</th>\n",
       "      <td id=\"T_c9f53_row1_col0\" class=\"data row1 col0\" >2.240893</td>\n",
       "      <td id=\"T_c9f53_row1_col1\" class=\"data row1 col1\" >1.867558</td>\n",
       "      <td id=\"T_c9f53_row1_col2\" class=\"data row1 col2\" >-0.977278</td>\n",
       "    </tr>\n",
       "    <tr>\n",
       "      <th id=\"T_c9f53_level0_row2\" class=\"row_heading level0 row2\" >e</th>\n",
       "      <td id=\"T_c9f53_row2_col0\" class=\"data row2 col0\" >0.950088</td>\n",
       "      <td id=\"T_c9f53_row2_col1\" class=\"data row2 col1\" >-0.151357</td>\n",
       "      <td id=\"T_c9f53_row2_col2\" class=\"data row2 col2\" >-0.103219</td>\n",
       "    </tr>\n",
       "    <tr>\n",
       "      <th id=\"T_c9f53_level0_row3\" class=\"row_heading level0 row3\" >f</th>\n",
       "      <td id=\"T_c9f53_row3_col0\" class=\"data row3 col0\" >0.410599</td>\n",
       "      <td id=\"T_c9f53_row3_col1\" class=\"data row3 col1\" >0.000000</td>\n",
       "      <td id=\"T_c9f53_row3_col2\" class=\"data row3 col2\" >1.454274</td>\n",
       "    </tr>\n",
       "    <tr>\n",
       "      <th id=\"T_c9f53_level0_row4\" class=\"row_heading level0 row4\" >h</th>\n",
       "      <td id=\"T_c9f53_row4_col0\" class=\"data row4 col0\" >0.761038</td>\n",
       "      <td id=\"T_c9f53_row4_col1\" class=\"data row4 col1\" >0.121675</td>\n",
       "      <td id=\"T_c9f53_row4_col2\" class=\"data row4 col2\" >0.443863</td>\n",
       "    </tr>\n",
       "  </tbody>\n",
       "</table>\n"
      ],
      "text/plain": [
       "<pandas.io.formats.style.Styler at 0x22e19301550>"
      ]
     },
     "execution_count": 26,
     "metadata": {},
     "output_type": "execute_result"
    }
   ],
   "source": [
    "df_info(df.fillna(value=0.0))"
   ]
  },
  {
   "cell_type": "code",
   "execution_count": 27,
   "metadata": {},
   "outputs": [
    {
     "data": {
      "text/html": [
       "<style type=\"text/css\">\n",
       "</style>\n",
       "<table id=\"T_7d9d2\">\n",
       "  <thead>\n",
       "    <tr>\n",
       "      <th class=\"blank level0\" >&nbsp;</th>\n",
       "      <th id=\"T_7d9d2_level0_col0\" class=\"col_heading level0 col0\" >one</th>\n",
       "      <th id=\"T_7d9d2_level0_col1\" class=\"col_heading level0 col1\" >two</th>\n",
       "      <th id=\"T_7d9d2_level0_col2\" class=\"col_heading level0 col2\" >three</th>\n",
       "    </tr>\n",
       "  </thead>\n",
       "  <tbody>\n",
       "    <tr>\n",
       "      <th id=\"T_7d9d2_level0_row0\" class=\"row_heading level0 row0\" >a</th>\n",
       "      <td id=\"T_7d9d2_row0_col0\" class=\"data row0 col0\" >missing</td>\n",
       "      <td id=\"T_7d9d2_row0_col1\" class=\"data row0 col1\" >0.400157</td>\n",
       "      <td id=\"T_7d9d2_row0_col2\" class=\"data row0 col2\" >0.978738</td>\n",
       "    </tr>\n",
       "    <tr>\n",
       "      <th id=\"T_7d9d2_level0_row1\" class=\"row_heading level0 row1\" >c</th>\n",
       "      <td id=\"T_7d9d2_row1_col0\" class=\"data row1 col0\" >2.240893</td>\n",
       "      <td id=\"T_7d9d2_row1_col1\" class=\"data row1 col1\" >1.867558</td>\n",
       "      <td id=\"T_7d9d2_row1_col2\" class=\"data row1 col2\" >-0.977278</td>\n",
       "    </tr>\n",
       "    <tr>\n",
       "      <th id=\"T_7d9d2_level0_row2\" class=\"row_heading level0 row2\" >e</th>\n",
       "      <td id=\"T_7d9d2_row2_col0\" class=\"data row2 col0\" >0.950088</td>\n",
       "      <td id=\"T_7d9d2_row2_col1\" class=\"data row2 col1\" >-0.151357</td>\n",
       "      <td id=\"T_7d9d2_row2_col2\" class=\"data row2 col2\" >-0.103219</td>\n",
       "    </tr>\n",
       "    <tr>\n",
       "      <th id=\"T_7d9d2_level0_row3\" class=\"row_heading level0 row3\" >f</th>\n",
       "      <td id=\"T_7d9d2_row3_col0\" class=\"data row3 col0\" >0.410599</td>\n",
       "      <td id=\"T_7d9d2_row3_col1\" class=\"data row3 col1\" >missing</td>\n",
       "      <td id=\"T_7d9d2_row3_col2\" class=\"data row3 col2\" >1.454274</td>\n",
       "    </tr>\n",
       "    <tr>\n",
       "      <th id=\"T_7d9d2_level0_row4\" class=\"row_heading level0 row4\" >h</th>\n",
       "      <td id=\"T_7d9d2_row4_col0\" class=\"data row4 col0\" >0.761038</td>\n",
       "      <td id=\"T_7d9d2_row4_col1\" class=\"data row4 col1\" >0.121675</td>\n",
       "      <td id=\"T_7d9d2_row4_col2\" class=\"data row4 col2\" >0.443863</td>\n",
       "    </tr>\n",
       "  </tbody>\n",
       "</table>\n"
      ],
      "text/plain": [
       "<pandas.io.formats.style.Styler at 0x22e192eac10>"
      ]
     },
     "execution_count": 27,
     "metadata": {},
     "output_type": "execute_result"
    }
   ],
   "source": [
    "df_info(df.fillna(\"missing\"))"
   ]
  },
  {
   "cell_type": "markdown",
   "metadata": {},
   "source": [
    "#### Interpolate\n"
   ]
  },
  {
   "cell_type": "code",
   "execution_count": 28,
   "metadata": {},
   "outputs": [
    {
     "data": {
      "text/html": [
       "<style type=\"text/css\">\n",
       "#T_543fa_row2_col0, #T_543fa_row6_col0 {\n",
       "  background-color: darkorange;\n",
       "}\n",
       "</style>\n",
       "<table id=\"T_543fa\">\n",
       "  <thead>\n",
       "    <tr>\n",
       "      <th class=\"blank level0\" >&nbsp;</th>\n",
       "      <th id=\"T_543fa_level0_col0\" class=\"col_heading level0 col0\" >0</th>\n",
       "    </tr>\n",
       "  </thead>\n",
       "  <tbody>\n",
       "    <tr>\n",
       "      <th id=\"T_543fa_level0_row0\" class=\"row_heading level0 row0\" >2021-04-21 00:00:00</th>\n",
       "      <td id=\"T_543fa_row0_col0\" class=\"data row0 col0\" >-4.105980</td>\n",
       "    </tr>\n",
       "    <tr>\n",
       "      <th id=\"T_543fa_level0_row1\" class=\"row_heading level0 row1\" >2021-04-22 00:00:00</th>\n",
       "      <td id=\"T_543fa_row1_col0\" class=\"data row1 col0\" >-0.708191</td>\n",
       "    </tr>\n",
       "    <tr>\n",
       "      <th id=\"T_543fa_level0_row2\" class=\"row_heading level0 row2\" >2021-04-23 00:00:00</th>\n",
       "      <td id=\"T_543fa_row2_col0\" class=\"data row2 col0\" >nan</td>\n",
       "    </tr>\n",
       "    <tr>\n",
       "      <th id=\"T_543fa_level0_row3\" class=\"row_heading level0 row3\" >2021-04-24 00:00:00</th>\n",
       "      <td id=\"T_543fa_row3_col0\" class=\"data row3 col0\" >0.589683</td>\n",
       "    </tr>\n",
       "    <tr>\n",
       "      <th id=\"T_543fa_level0_row4\" class=\"row_heading level0 row4\" >2021-04-25 00:00:00</th>\n",
       "      <td id=\"T_543fa_row4_col0\" class=\"data row4 col0\" >1.626135</td>\n",
       "    </tr>\n",
       "    <tr>\n",
       "      <th id=\"T_543fa_level0_row5\" class=\"row_heading level0 row5\" >2021-04-26 00:00:00</th>\n",
       "      <td id=\"T_543fa_row5_col0\" class=\"data row5 col0\" >1.667349</td>\n",
       "    </tr>\n",
       "    <tr>\n",
       "      <th id=\"T_543fa_level0_row6\" class=\"row_heading level0 row6\" >2021-04-27 00:00:00</th>\n",
       "      <td id=\"T_543fa_row6_col0\" class=\"data row6 col0\" >nan</td>\n",
       "    </tr>\n",
       "    <tr>\n",
       "      <th id=\"T_543fa_level0_row7\" class=\"row_heading level0 row7\" >2021-04-28 00:00:00</th>\n",
       "      <td id=\"T_543fa_row7_col0\" class=\"data row7 col0\" >2.728872</td>\n",
       "    </tr>\n",
       "    <tr>\n",
       "      <th id=\"T_543fa_level0_row8\" class=\"row_heading level0 row8\" >2021-04-29 00:00:00</th>\n",
       "      <td id=\"T_543fa_row8_col0\" class=\"data row8 col0\" >3.988158</td>\n",
       "    </tr>\n",
       "    <tr>\n",
       "      <th id=\"T_543fa_level0_row9\" class=\"row_heading level0 row9\" >2021-04-30 00:00:00</th>\n",
       "      <td id=\"T_543fa_row9_col0\" class=\"data row9 col0\" >5.539509</td>\n",
       "    </tr>\n",
       "  </tbody>\n",
       "</table>\n"
      ],
      "text/plain": [
       "<pandas.io.formats.style.Styler at 0x22e7fb356d0>"
      ]
     },
     "execution_count": 28,
     "metadata": {},
     "output_type": "execute_result"
    }
   ],
   "source": [
    "num_samples = 10\n",
    "\n",
    "index = pd.date_range(\"21/4/2021\", periods=num_samples)\n",
    "\n",
    "values = 2 * np.sort(np.random.randn(num_samples)) + 1\n",
    "df = pd.DataFrame(values, index)\n",
    "df.iloc[2] = None\n",
    "df.iloc[6] = None\n",
    "\n",
    "df_info(df)"
   ]
  },
  {
   "cell_type": "code",
   "execution_count": 29,
   "metadata": {},
   "outputs": [
    {
     "data": {
      "text/plain": [
       "<Axes: >"
      ]
     },
     "execution_count": 29,
     "metadata": {},
     "output_type": "execute_result"
    },
    {
     "data": {
      "image/png": "[encoded data removed]",
      "text/plain": [
       "<Figure size 640x480 with 1 Axes>"
      ]
     },
     "metadata": {},
     "output_type": "display_data"
    }
   ],
   "source": [
    "df.plot()"
   ]
  },
  {
   "cell_type": "code",
   "execution_count": 30,
   "metadata": {},
   "outputs": [
    {
     "data": {
      "text/html": [
       "<style type=\"text/css\">\n",
       "</style>\n",
       "<table id=\"T_11da3\">\n",
       "  <thead>\n",
       "    <tr>\n",
       "      <th class=\"blank level0\" >&nbsp;</th>\n",
       "      <th id=\"T_11da3_level0_col0\" class=\"col_heading level0 col0\" >0</th>\n",
       "    </tr>\n",
       "  </thead>\n",
       "  <tbody>\n",
       "    <tr>\n",
       "      <th id=\"T_11da3_level0_row0\" class=\"row_heading level0 row0\" >2021-04-21 00:00:00</th>\n",
       "      <td id=\"T_11da3_row0_col0\" class=\"data row0 col0\" >-4.105980</td>\n",
       "    </tr>\n",
       "    <tr>\n",
       "      <th id=\"T_11da3_level0_row1\" class=\"row_heading level0 row1\" >2021-04-22 00:00:00</th>\n",
       "      <td id=\"T_11da3_row1_col0\" class=\"data row1 col0\" >-0.708191</td>\n",
       "    </tr>\n",
       "    <tr>\n",
       "      <th id=\"T_11da3_level0_row2\" class=\"row_heading level0 row2\" >2021-04-23 00:00:00</th>\n",
       "      <td id=\"T_11da3_row2_col0\" class=\"data row2 col0\" >-0.059254</td>\n",
       "    </tr>\n",
       "    <tr>\n",
       "      <th id=\"T_11da3_level0_row3\" class=\"row_heading level0 row3\" >2021-04-24 00:00:00</th>\n",
       "      <td id=\"T_11da3_row3_col0\" class=\"data row3 col0\" >0.589683</td>\n",
       "    </tr>\n",
       "    <tr>\n",
       "      <th id=\"T_11da3_level0_row4\" class=\"row_heading level0 row4\" >2021-04-25 00:00:00</th>\n",
       "      <td id=\"T_11da3_row4_col0\" class=\"data row4 col0\" >1.626135</td>\n",
       "    </tr>\n",
       "    <tr>\n",
       "      <th id=\"T_11da3_level0_row5\" class=\"row_heading level0 row5\" >2021-04-26 00:00:00</th>\n",
       "      <td id=\"T_11da3_row5_col0\" class=\"data row5 col0\" >1.667349</td>\n",
       "    </tr>\n",
       "    <tr>\n",
       "      <th id=\"T_11da3_level0_row6\" class=\"row_heading level0 row6\" >2021-04-27 00:00:00</th>\n",
       "      <td id=\"T_11da3_row6_col0\" class=\"data row6 col0\" >2.198111</td>\n",
       "    </tr>\n",
       "    <tr>\n",
       "      <th id=\"T_11da3_level0_row7\" class=\"row_heading level0 row7\" >2021-04-28 00:00:00</th>\n",
       "      <td id=\"T_11da3_row7_col0\" class=\"data row7 col0\" >2.728872</td>\n",
       "    </tr>\n",
       "    <tr>\n",
       "      <th id=\"T_11da3_level0_row8\" class=\"row_heading level0 row8\" >2021-04-29 00:00:00</th>\n",
       "      <td id=\"T_11da3_row8_col0\" class=\"data row8 col0\" >3.988158</td>\n",
       "    </tr>\n",
       "    <tr>\n",
       "      <th id=\"T_11da3_level0_row9\" class=\"row_heading level0 row9\" >2021-04-30 00:00:00</th>\n",
       "      <td id=\"T_11da3_row9_col0\" class=\"data row9 col0\" >5.539509</td>\n",
       "    </tr>\n",
       "  </tbody>\n",
       "</table>\n"
      ],
      "text/plain": [
       "<pandas.io.formats.style.Styler at 0x22e78173b10>"
      ]
     },
     "execution_count": 30,
     "metadata": {},
     "output_type": "execute_result"
    }
   ],
   "source": [
    "df_info(df.interpolate())"
   ]
  },
  {
   "cell_type": "code",
   "execution_count": 31,
   "metadata": {},
   "outputs": [
    {
     "data": {
      "text/plain": [
       "<Axes: >"
      ]
     },
     "execution_count": 31,
     "metadata": {},
     "output_type": "execute_result"
    },
    {
     "data": {
      "image/png": "[encoded data removed]",
      "text/plain": [
       "<Figure size 640x480 with 1 Axes>"
      ]
     },
     "metadata": {},
     "output_type": "display_data"
    }
   ],
   "source": [
    "df.interpolate().plot()"
   ]
  }
 ],
 "metadata": {
  "anaconda-cloud": {},
  "kernelspec": {
   "display_name": "pyData",
   "language": "python",
   "name": "python3"
  },
  "language_info": {
   "codemirror_mode": {
    "name": "ipython",
    "version": 3
   },
   "file_extension": ".py",
   "mimetype": "text/x-python",
   "name": "python",
   "nbconvert_exporter": "python",
   "pygments_lexer": "ipython3",
   "version": "3.11.5"
  },
  "vscode": {
   "interpreter": {
    "hash": "f7005c152070cabaaf593843feaa8c4a4a04ad569523413e5d5955ceb49c894d"
   }
  }
 },
 "nbformat": 4,
 "nbformat_minor": 0
}
