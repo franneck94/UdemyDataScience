{
 "cells": [
  {
   "attachments": {},
   "cell_type": "markdown",
   "metadata": {},
   "source": [
    "# Tips and Tricks for Pandas\n"
   ]
  },
  {
   "cell_type": "code",
   "execution_count": 31,
   "metadata": {},
   "outputs": [
    {
     "name": "stdout",
     "output_type": "stream",
     "text": [
      "The Cython extension is already loaded. To reload it, use:\n",
      "  %reload_ext Cython\n"
     ]
    }
   ],
   "source": [
    "%load_ext Cython\n",
    "import numba\n",
    "import numpy as np\n",
    "import pandas as pd"
   ]
  },
  {
   "cell_type": "code",
   "execution_count": 32,
   "metadata": {},
   "outputs": [],
   "source": [
    "def make_df() -> pd.DataFrame:\n",
    "    return pd.DataFrame(\n",
    "        np.random.rand(10_000, 3),\n",
    "        columns=[\"A\", \"B\", \"C\"],\n",
    "    )"
   ]
  },
  {
   "cell_type": "code",
   "execution_count": 33,
   "metadata": {},
   "outputs": [],
   "source": [
    "df = make_df()"
   ]
  },
  {
   "cell_type": "code",
   "execution_count": 34,
   "metadata": {},
   "outputs": [
    {
     "name": "stdout",
     "output_type": "stream",
     "text": [
      "          A         B         C\n",
      "0  0.765605  0.050536  0.997545\n",
      "1  0.067672  0.209466  0.733057\n",
      "2  0.039797  0.554136  0.299882\n",
      "3  0.095909  0.556513  0.967307\n",
      "4  0.592292  0.325236  0.201376\n"
     ]
    }
   ],
   "source": [
    "print(df.head())"
   ]
  },
  {
   "attachments": {},
   "cell_type": "markdown",
   "metadata": {},
   "source": [
    "## Speed-Up Apply\n",
    "\n",
    "Use-Case:\n",
    "Replace the value in a column by 0.0 if it is less than 0.5\n"
   ]
  },
  {
   "cell_type": "code",
   "execution_count": 35,
   "metadata": {},
   "outputs": [],
   "source": [
    "def slow_function(df: pd.DataFrame) -> None:\n",
    "    col = \"A\"\n",
    "    for _, row in df.iterrows():\n",
    "        if row[col] < 0.5:\n",
    "            row[col] = 0.0"
   ]
  },
  {
   "cell_type": "code",
   "execution_count": 36,
   "metadata": {},
   "outputs": [
    {
     "name": "stdout",
     "output_type": "stream",
     "text": [
      "299 ms ± 20.1 ms per loop (mean ± std. dev. of 7 runs, 1 loop each)\n"
     ]
    }
   ],
   "source": [
    "%timeit slow_function(df)"
   ]
  },
  {
   "cell_type": "code",
   "execution_count": 37,
   "metadata": {},
   "outputs": [
    {
     "name": "stdout",
     "output_type": "stream",
     "text": [
      "          A         B         C\n",
      "0  0.765605  0.050536  0.997545\n",
      "1  0.000000  0.209466  0.733057\n",
      "2  0.000000  0.554136  0.299882\n",
      "3  0.000000  0.556513  0.967307\n",
      "4  0.592292  0.325236  0.201376\n"
     ]
    }
   ],
   "source": [
    "print(df.head())"
   ]
  },
  {
   "cell_type": "code",
   "execution_count": 38,
   "metadata": {},
   "outputs": [],
   "source": [
    "def faster_function(df: pd.DataFrame) -> None:\n",
    "    df[\"B\"] = df[\"B\"].apply(lambda x: 0.0 if x < 0.5 else x)"
   ]
  },
  {
   "cell_type": "code",
   "execution_count": 39,
   "metadata": {},
   "outputs": [],
   "source": [
    "df = make_df()"
   ]
  },
  {
   "cell_type": "code",
   "execution_count": 40,
   "metadata": {},
   "outputs": [
    {
     "name": "stdout",
     "output_type": "stream",
     "text": [
      "1.21 ms ± 23.3 µs per loop (mean ± std. dev. of 7 runs, 1,000 loops each)\n"
     ]
    }
   ],
   "source": [
    "%timeit faster_function(df)"
   ]
  },
  {
   "cell_type": "code",
   "execution_count": 41,
   "metadata": {},
   "outputs": [
    {
     "name": "stdout",
     "output_type": "stream",
     "text": [
      "          A         B         C\n",
      "0  0.635418  0.603695  0.370619\n",
      "1  0.623580  0.000000  0.983399\n",
      "2  0.136205  0.835230  0.515819\n",
      "3  0.549301  0.000000  0.550670\n",
      "4  0.282295  0.000000  0.187677\n"
     ]
    }
   ],
   "source": [
    "print(df.head())"
   ]
  },
  {
   "cell_type": "code",
   "execution_count": 42,
   "metadata": {},
   "outputs": [],
   "source": [
    "def even_faster_function(df: pd.DataFrame) -> None:\n",
    "    df[\"C\"] = np.where(df[\"C\"] < 0.5, 0.0, df[\"C\"])"
   ]
  },
  {
   "cell_type": "code",
   "execution_count": 43,
   "metadata": {},
   "outputs": [],
   "source": [
    "df = make_df()"
   ]
  },
  {
   "cell_type": "code",
   "execution_count": 44,
   "metadata": {},
   "outputs": [
    {
     "name": "stdout",
     "output_type": "stream",
     "text": [
      "119 µs ± 4.9 µs per loop (mean ± std. dev. of 7 runs, 10,000 loops each)\n"
     ]
    }
   ],
   "source": [
    "%timeit even_faster_function(df)"
   ]
  },
  {
   "cell_type": "code",
   "execution_count": 45,
   "metadata": {},
   "outputs": [
    {
     "name": "stdout",
     "output_type": "stream",
     "text": [
      "          A         B         C\n",
      "0  0.919487  0.879795  0.792813\n",
      "1  0.174273  0.720798  0.000000\n",
      "2  0.334481  0.872924  0.000000\n",
      "3  0.925926  0.367924  0.000000\n",
      "4  0.590363  0.697155  0.000000\n"
     ]
    }
   ],
   "source": [
    "print(df.head())"
   ]
  },
  {
   "cell_type": "code",
   "execution_count": 46,
   "metadata": {},
   "outputs": [],
   "source": [
    "%%cython\n",
    "cimport cython\n",
    "cimport numpy as np\n",
    "import numpy as np\n",
    "\n",
    "@cython.boundscheck(False)\n",
    "@cython.wraparound(False)\n",
    "cpdef inner(np.ndarray[double, ndim=1] array):\n",
    "    for i in range(array.shape[0]):\n",
    "        if array[i] < 0.5:\n",
    "            array[i] = 0.0\n",
    "\n",
    "def cython_apply(df):\n",
    "    inner(df[\"A\"].values)\n"
   ]
  },
  {
   "cell_type": "code",
   "execution_count": 47,
   "metadata": {},
   "outputs": [],
   "source": [
    "df = make_df()"
   ]
  },
  {
   "cell_type": "code",
   "execution_count": 48,
   "metadata": {},
   "outputs": [
    {
     "name": "stdout",
     "output_type": "stream",
     "text": [
      "8.53 µs ± 569 ns per loop (mean ± std. dev. of 7 runs, 100,000 loops each)\n"
     ]
    }
   ],
   "source": [
    "%timeit cython_apply(df)"
   ]
  },
  {
   "cell_type": "code",
   "execution_count": 49,
   "metadata": {},
   "outputs": [
    {
     "name": "stdout",
     "output_type": "stream",
     "text": [
      "          A         B         C\n",
      "0  0.000000  0.238601  0.702826\n",
      "1  0.868471  0.038493  0.906479\n",
      "2  0.538929  0.534994  0.532870\n",
      "3  0.000000  0.398570  0.885484\n",
      "4  0.823780  0.996472  0.399336\n"
     ]
    }
   ],
   "source": [
    "print(df.head())"
   ]
  },
  {
   "cell_type": "code",
   "execution_count": 50,
   "metadata": {},
   "outputs": [
    {
     "name": "stderr",
     "output_type": "stream",
     "text": [
      "C:\\Users\\Jan\\AppData\\Local\\Temp\\ipykernel_19756\\1234372069.py:1: NumbaDeprecationWarning: \u001b[1mThe 'nopython' keyword argument was not supplied to the 'numba.jit' decorator. The implicit default value for this argument is currently False, but it will be changed to True in Numba 0.59.0. See https://numba.readthedocs.io/en/stable/reference/deprecation.html#deprecation-of-object-mode-fall-back-behaviour-when-using-jit for details.\u001b[0m\n",
      "  @numba.jit\n"
     ]
    }
   ],
   "source": [
    "@numba.jit\n",
    "def inner(array: np.ndarray) -> None:\n",
    "    for i in range(array.shape[0]):\n",
    "        if array[i] < 0.5:\n",
    "            array[i] = 0.0\n",
    "\n",
    "\n",
    "def numba_apply(df: pd.DataFrame) -> None:\n",
    "    inner(df[\"A\"].values)"
   ]
  },
  {
   "cell_type": "code",
   "execution_count": 51,
   "metadata": {},
   "outputs": [],
   "source": [
    "df = make_df()"
   ]
  },
  {
   "cell_type": "code",
   "execution_count": 52,
   "metadata": {},
   "outputs": [
    {
     "name": "stdout",
     "output_type": "stream",
     "text": [
      "7.36 µs ± 184 ns per loop (mean ± std. dev. of 7 runs, 100,000 loops each)\n"
     ]
    }
   ],
   "source": [
    "%timeit numba_apply(df)"
   ]
  },
  {
   "cell_type": "code",
   "execution_count": 53,
   "metadata": {},
   "outputs": [
    {
     "name": "stdout",
     "output_type": "stream",
     "text": [
      "          A         B         C\n",
      "0  0.772160  0.642384  0.108635\n",
      "1  0.000000  0.111692  0.437901\n",
      "2  0.531210  0.309255  0.175349\n",
      "3  0.848457  0.205686  0.850719\n",
      "4  0.813487  0.958661  0.335560\n"
     ]
    }
   ],
   "source": [
    "print(df.head())"
   ]
  },
  {
   "attachments": {},
   "cell_type": "markdown",
   "metadata": {},
   "source": [
    "| Function             | Time       | Speed-Up |\n",
    "| -------------------- | ---------- | -------- |\n",
    "| slow_function        | 377ms      | -        |\n",
    "| faster_function      | 1,4ms      | 269x     |\n",
    "| even_faster_function | 138 us     | 2,731x   |\n",
    "| cython_function      | 8.36 us    | 45,095x  |\n",
    "| numba_function       | 6.18 us    | 61,003x  |\n",
    "| c++                  | 13.2301 us | 28,495x  |\n"
   ]
  },
  {
   "attachments": {},
   "cell_type": "markdown",
   "metadata": {},
   "source": [
    "# Speed-Up Transform\n"
   ]
  },
  {
   "cell_type": "code",
   "execution_count": 54,
   "metadata": {},
   "outputs": [],
   "source": [
    "def slow_function2(df: pd.DataFrame) -> None:\n",
    "    col = \"A\"\n",
    "    for _idx, row in df.iterrows():\n",
    "        row[col] = row[col] + 1.0"
   ]
  },
  {
   "cell_type": "code",
   "execution_count": 55,
   "metadata": {},
   "outputs": [],
   "source": [
    "df = make_df()"
   ]
  },
  {
   "cell_type": "code",
   "execution_count": 56,
   "metadata": {},
   "outputs": [
    {
     "name": "stdout",
     "output_type": "stream",
     "text": [
      "338 ms ± 8.67 ms per loop (mean ± std. dev. of 7 runs, 1 loop each)\n"
     ]
    }
   ],
   "source": [
    "%timeit slow_function2(df)"
   ]
  },
  {
   "cell_type": "code",
   "execution_count": 57,
   "metadata": {},
   "outputs": [
    {
     "name": "stdout",
     "output_type": "stream",
     "text": [
      "          A         B         C\n",
      "0  8.504680  0.368171  0.069273\n",
      "1  8.227038  0.287186  0.918400\n",
      "2  8.089656  0.874666  0.862913\n",
      "3  8.920216  0.186675  0.251968\n",
      "4  8.827670  0.988160  0.157106\n"
     ]
    }
   ],
   "source": [
    "print(df.head())"
   ]
  },
  {
   "cell_type": "code",
   "execution_count": 58,
   "metadata": {},
   "outputs": [],
   "source": [
    "def faster_function2(df: pd.DataFrame) -> None:\n",
    "    df[\"B\"] = df[\"B\"].transform(lambda x: x + 1.0)"
   ]
  },
  {
   "cell_type": "code",
   "execution_count": 59,
   "metadata": {},
   "outputs": [],
   "source": [
    "df = make_df()"
   ]
  },
  {
   "cell_type": "code",
   "execution_count": 60,
   "metadata": {},
   "outputs": [
    {
     "name": "stdout",
     "output_type": "stream",
     "text": [
      "1.16 ms ± 26.3 µs per loop (mean ± std. dev. of 7 runs, 1,000 loops each)\n"
     ]
    }
   ],
   "source": [
    "%timeit faster_function2(df)"
   ]
  },
  {
   "cell_type": "code",
   "execution_count": 61,
   "metadata": {},
   "outputs": [
    {
     "name": "stdout",
     "output_type": "stream",
     "text": [
      "          A            B         C\n",
      "0  0.331196  8111.366002  0.549351\n",
      "1  0.155978  8111.093852  0.508282\n",
      "2  0.715712  8111.329463  0.025127\n",
      "3  0.094839  8111.834435  0.100286\n",
      "4  0.559291  8111.595357  0.698990\n"
     ]
    }
   ],
   "source": [
    "print(df.head())"
   ]
  },
  {
   "cell_type": "code",
   "execution_count": 62,
   "metadata": {},
   "outputs": [],
   "source": [
    "def even_faster_function2(df: pd.DataFrame) -> None:\n",
    "    df[\"C\"] = df[\"C\"] + 1.0"
   ]
  },
  {
   "cell_type": "code",
   "execution_count": 63,
   "metadata": {},
   "outputs": [],
   "source": [
    "df = make_df()"
   ]
  },
  {
   "cell_type": "code",
   "execution_count": 64,
   "metadata": {},
   "outputs": [
    {
     "name": "stdout",
     "output_type": "stream",
     "text": [
      "104 µs ± 3.01 µs per loop (mean ± std. dev. of 7 runs, 10,000 loops each)\n"
     ]
    }
   ],
   "source": [
    "%timeit even_faster_function2(df)"
   ]
  },
  {
   "cell_type": "code",
   "execution_count": 65,
   "metadata": {},
   "outputs": [
    {
     "name": "stdout",
     "output_type": "stream",
     "text": [
      "          A         B             C\n",
      "0  0.530135  0.812159  81111.003906\n",
      "1  0.026888  0.363115  81111.680093\n",
      "2  0.802039  0.561515  81111.216162\n",
      "3  0.074736  0.830822  81111.523468\n",
      "4  0.317605  0.833871  81111.174935\n"
     ]
    }
   ],
   "source": [
    "print(df.head())"
   ]
  },
  {
   "cell_type": "code",
   "execution_count": 66,
   "metadata": {},
   "outputs": [],
   "source": [
    "%%cython\n",
    "cimport cython\n",
    "cimport numpy as np\n",
    "import numpy as np\n",
    "\n",
    "@cython.boundscheck(False)\n",
    "@cython.wraparound(False)\n",
    "cpdef inner(np.ndarray[double, ndim=1] array):\n",
    "    for i in range(array.shape[0]):\n",
    "        array[i] += 1.0\n",
    "\n",
    "def cython_transform(df):\n",
    "    inner(df[\"A\"].values)\n"
   ]
  },
  {
   "cell_type": "code",
   "execution_count": 67,
   "metadata": {},
   "outputs": [],
   "source": [
    "df = make_df()"
   ]
  },
  {
   "cell_type": "code",
   "execution_count": 68,
   "metadata": {},
   "outputs": [
    {
     "name": "stdout",
     "output_type": "stream",
     "text": [
      "7.4 µs ± 172 ns per loop (mean ± std. dev. of 7 runs, 100,000 loops each)\n"
     ]
    }
   ],
   "source": [
    "%timeit cython_transform(df)"
   ]
  },
  {
   "cell_type": "code",
   "execution_count": 69,
   "metadata": {},
   "outputs": [
    {
     "name": "stdout",
     "output_type": "stream",
     "text": [
      "               A         B         C\n",
      "0  811111.363066  0.349891  0.920078\n",
      "1  811111.091901  0.403213  0.949206\n",
      "2  811111.785617  0.430489  0.466205\n",
      "3  811111.364162  0.381953  0.078409\n",
      "4  811111.430127  0.122566  0.743954\n"
     ]
    }
   ],
   "source": [
    "print(df.head())"
   ]
  },
  {
   "cell_type": "code",
   "execution_count": 70,
   "metadata": {},
   "outputs": [
    {
     "name": "stderr",
     "output_type": "stream",
     "text": [
      "C:\\Users\\Jan\\AppData\\Local\\Temp\\ipykernel_19756\\3004869500.py:1: NumbaDeprecationWarning: \u001b[1mThe 'nopython' keyword argument was not supplied to the 'numba.jit' decorator. The implicit default value for this argument is currently False, but it will be changed to True in Numba 0.59.0. See https://numba.readthedocs.io/en/stable/reference/deprecation.html#deprecation-of-object-mode-fall-back-behaviour-when-using-jit for details.\u001b[0m\n",
      "  @numba.jit\n"
     ]
    }
   ],
   "source": [
    "@numba.jit\n",
    "def inner2(array: np.ndarray) -> None:\n",
    "    for i in range(array.shape[0]):\n",
    "        array[i] += 1.0\n",
    "\n",
    "\n",
    "def numba_transform(df: pd.DataFrame) -> None:\n",
    "    inner2(df[\"A\"].values)"
   ]
  },
  {
   "cell_type": "code",
   "execution_count": 71,
   "metadata": {},
   "outputs": [
    {
     "name": "stdout",
     "output_type": "stream",
     "text": [
      "5.55 µs ± 119 ns per loop (mean ± std. dev. of 7 runs, 100,000 loops each)\n",
      "               A         B         C\n",
      "0  811111.583415  0.302987  0.633909\n",
      "1  811111.175682  0.366690  0.312827\n",
      "2  811111.746706  0.464280  0.662986\n",
      "3  811111.460189  0.932064  0.561992\n",
      "4  811111.013973  0.845645  0.169862\n"
     ]
    }
   ],
   "source": [
    "df = make_df()"
   ]
  },
  {
   "cell_type": "code",
   "execution_count": null,
   "metadata": {},
   "outputs": [],
   "source": [
    "%timeit numba_transform(df)"
   ]
  },
  {
   "cell_type": "code",
   "execution_count": null,
   "metadata": {},
   "outputs": [],
   "source": [
    "print(df.head())"
   ]
  },
  {
   "attachments": {},
   "cell_type": "markdown",
   "metadata": {},
   "source": [
    "| Function             | Time     | Speed-Up |\n",
    "| -------------------- | -------- | -------- |\n",
    "| slow_function        | 440 ms   | -        |\n",
    "| faster_function      | 1.4 ms   | 314x     |\n",
    "| even_faster_function | 124 us   | 3,548x   |\n",
    "| cython_function      | 7.63 us  | 57,667x  |\n",
    "| numba_function       | 6.46 us  | 68,111x  |\n",
    "| c++                  | 0.526 us | 836,501x |\n"
   ]
  }
 ],
 "metadata": {
  "kernelspec": {
   "display_name": "pyData",
   "language": "python",
   "name": "python3"
  },
  "language_info": {
   "codemirror_mode": {
    "name": "ipython",
    "version": 3
   },
   "file_extension": ".py",
   "mimetype": "text/x-python",
   "name": "python",
   "nbconvert_exporter": "python",
   "pygments_lexer": "ipython3",
   "version": "3.11.5"
  },
  "orig_nbformat": 2,
  "vscode": {
   "interpreter": {
    "hash": "f7005c152070cabaaf593843feaa8c4a4a04ad569523413e5d5955ceb49c894d"
   }
  }
 },
 "nbformat": 4,
 "nbformat_minor": 2
}
