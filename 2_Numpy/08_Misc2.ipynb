{
 "cells": [
  {
   "cell_type": "code",
   "execution_count": 1,
   "metadata": {},
   "outputs": [],
   "source": [
    "import numpy as np"
   ]
  },
  {
   "cell_type": "markdown",
   "metadata": {},
   "source": [
    "# Save and Store Numpy Data\n"
   ]
  },
  {
   "cell_type": "code",
   "execution_count": 2,
   "metadata": {},
   "outputs": [],
   "source": [
    "np.random.seed(0)"
   ]
  },
  {
   "cell_type": "code",
   "execution_count": 3,
   "metadata": {},
   "outputs": [],
   "source": [
    "def structured_array_info(array: np.ndarray) -> None:\n",
    "    print(f\"ndim: {array.ndim}\")\n",
    "    print(f\"shape: {array.shape}\")\n",
    "    print(f\"size: {array.size}\")\n",
    "    print(f\"dtype: {array.dtype}\")\n",
    "    print(f\"names: {array.dtype.names}\")\n",
    "    print(f\"fields: {array.dtype.fields}\")\n",
    "    print(f\"values:\\n{array}\\n\")"
   ]
  },
  {
   "attachments": {},
   "cell_type": "markdown",
   "metadata": {},
   "source": [
    "```python\n",
    "numpy.save(\n",
    "    file,\n",
    "    arr,\n",
    "    allow_pickle=True,\n",
    "    fix_imports=True\n",
    ")\n",
    "```\n",
    "\n",
    "Save an array to a binary file in NumPy .npy format.\n",
    "\n",
    "```python\n",
    "numpy.load(\n",
    "    file,\n",
    "    mmap_mode=None,\n",
    "    allow_pickle=False,\n",
    "    fix_imports=True,\n",
    "    encoding='ASCII'\n",
    ")\n",
    "```\n",
    "\n",
    "Load arrays or pickled objects from .npy, .npz or pickled files.\n",
    "\n",
    "### Further functions\n",
    "\n",
    "np.savez, np.savetxt, np.loadtxt\n",
    "\n",
    "If you want to store a single ndarray object, store it as a .npy file using np.save.  \n",
    "If you want to store more than one ndarray object in a single file, save it as a .npz file using np.savez.\n"
   ]
  },
  {
   "cell_type": "code",
   "execution_count": 4,
   "metadata": {},
   "outputs": [],
   "source": [
    "with open(\"../data/test.npy\", \"wb\") as f:\n",
    "    np.save(f, np.zeros((1000, 100), dtype=np.int32))"
   ]
  },
  {
   "cell_type": "code",
   "execution_count": 5,
   "metadata": {},
   "outputs": [],
   "source": [
    "with open(\"../data/test.npy\", \"rb\") as f:\n",
    "    a = np.load(f)"
   ]
  },
  {
   "cell_type": "code",
   "execution_count": 6,
   "metadata": {},
   "outputs": [
    {
     "name": "stdout",
     "output_type": "stream",
     "text": [
      "[[0 0 0 ... 0 0 0]\n",
      " [0 0 0 ... 0 0 0]\n",
      " [0 0 0 ... 0 0 0]\n",
      " ...\n",
      " [0 0 0 ... 0 0 0]\n",
      " [0 0 0 ... 0 0 0]\n",
      " [0 0 0 ... 0 0 0]]\n"
     ]
    }
   ],
   "source": [
    "print(a)"
   ]
  },
  {
   "attachments": {},
   "cell_type": "markdown",
   "metadata": {},
   "source": [
    "# Structured arrays\n",
    "\n",
    "Structured arrays are ndarrays whose datatype is a composition of simpler datatypes organized as a sequence of named fields.\n",
    "\n",
    "Structured datatypes are designed to be able to mimic ‘structs’ in the C language.  \n",
    "They are meant for interfacing with C code and for low-level manipulation of structured buffers,  \n",
    "for example for interpreting binary blobs.  \n",
    "For these purposes they support specialized features such as subarrays,  \n",
    "nested datatypes, and unions, and allow control over the memory layout of the structure.\n"
   ]
  },
  {
   "cell_type": "code",
   "execution_count": 7,
   "metadata": {},
   "outputs": [],
   "source": [
    "x = np.array(\n",
    "    [\n",
    "        (\"Jan\", 9, 81.0),\n",
    "        (\"Peter\", 3, 27.0),\n",
    "    ],\n",
    "    dtype=[\n",
    "        (\"name\", \"U10\"),\n",
    "        (\"age\", \"i4\"),\n",
    "        (\"weight\", \"f4\"),\n",
    "    ],\n",
    ")"
   ]
  },
  {
   "cell_type": "code",
   "execution_count": 8,
   "metadata": {},
   "outputs": [
    {
     "name": "stdout",
     "output_type": "stream",
     "text": [
      "ndim: 1\n",
      "shape: (2,)\n",
      "size: 2\n",
      "dtype: [('name', '<U10'), ('age', '<i4'), ('weight', '<f4')]\n",
      "names: ('name', 'age', 'weight')\n",
      "fields: {'name': (dtype('<U10'), 0), 'age': (dtype('int32'), 40), 'weight': (dtype('float32'), 44)}\n",
      "values:\n",
      "[('Jan', 9, 81.) ('Peter', 3, 27.)]\n",
      "\n"
     ]
    }
   ],
   "source": [
    "structured_array_info(x)"
   ]
  }
 ],
 "metadata": {
  "kernelspec": {
   "display_name": "pyData",
   "language": "python",
   "name": "python3"
  },
  "language_info": {
   "codemirror_mode": {
    "name": "ipython",
    "version": 3
   },
   "file_extension": ".py",
   "mimetype": "text/x-python",
   "name": "python",
   "nbconvert_exporter": "python",
   "pygments_lexer": "ipython3",
   "version": "3.11.5"
  },
  "orig_nbformat": 2,
  "vscode": {
   "interpreter": {
    "hash": "f7005c152070cabaaf593843feaa8c4a4a04ad569523413e5d5955ceb49c894d"
   }
  }
 },
 "nbformat": 4,
 "nbformat_minor": 2
}
