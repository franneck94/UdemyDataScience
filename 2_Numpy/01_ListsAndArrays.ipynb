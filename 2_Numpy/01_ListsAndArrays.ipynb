{
 "cells": [
  {
   "cell_type": "markdown",
   "metadata": {},
   "source": [
    "# Lists and Arrays in Python\n"
   ]
  },
  {
   "cell_type": "code",
   "execution_count": 18,
   "metadata": {},
   "outputs": [],
   "source": [
    "import array\n",
    "\n",
    "import numpy as np\n",
    "import math"
   ]
  },
  {
   "cell_type": "markdown",
   "metadata": {},
   "source": [
    "## Python List\n"
   ]
  },
  {
   "cell_type": "code",
   "execution_count": 19,
   "metadata": {
    "collapsed": false
   },
   "outputs": [
    {
     "name": "stdout",
     "output_type": "stream",
     "text": [
      "[<class 'bool'>, <class 'str'>, <class 'float'>, <class 'int'>, <class 'NoneType'>]\n"
     ]
    }
   ],
   "source": [
    "my_list = [True, \"Hello\", 42.0, 420, None]\n",
    "\n",
    "print([type(val) for val in my_list])"
   ]
  },
  {
   "cell_type": "markdown",
   "metadata": {},
   "source": [
    "## Python Array\n"
   ]
  },
  {
   "cell_type": "code",
   "execution_count": 20,
   "metadata": {
    "collapsed": false
   },
   "outputs": [
    {
     "name": "stdout",
     "output_type": "stream",
     "text": [
      "array('i', [0, 1, 2, 3, 4, 5, 6, 7, 8, 9])\n"
     ]
    }
   ],
   "source": [
    "my_array_range = list(range(10))\n",
    "my_array = array.array(\"i\", my_array_range)\n",
    "\n",
    "print(my_array)"
   ]
  },
  {
   "attachments": {},
   "cell_type": "markdown",
   "metadata": {},
   "source": [
    "### Array Dtypes\n",
    "\n",
    "|           |                    |                   |                       |\n",
    "| --------- | ------------------ | ----------------- | --------------------- |\n",
    "| Type code | C Type             | Python Type       | Minimum size in bytes |\n",
    "| 'b'       | signed char        | int               | 1                     |\n",
    "| 'B'       | unsigned char      | int               | 1                     |\n",
    "| 'u'       | wchar_t            | Unicode character | 2                     |\n",
    "| 'h'       | signed short       | int               | 2                     |\n",
    "| 'H'       | unsigned short     | int               | 2                     |\n",
    "| 'i'       | signed int         | int               | 2                     |\n",
    "| 'I'       | unsigned int       | int               | 2                     |\n",
    "| 'l'       | signed long        | int               | 4                     |\n",
    "| 'L'       | unsigned long      | int               | 4                     |\n",
    "| 'q'       | signed long long   | int               | 8                     |\n",
    "| 'Q'       | unsigned long long | int               | 8                     |\n",
    "| 'f'       | float              | float             | 4                     |\n",
    "| 'd'       | double             | float             | 8                     |\n"
   ]
  },
  {
   "cell_type": "code",
   "execution_count": 21,
   "metadata": {},
   "outputs": [
    {
     "name": "stdout",
     "output_type": "stream",
     "text": [
      "array('d', [0.0, 1.0, 2.0, 3.0, 4.0, 5.0, 6.0, 7.0, 8.0, 9.0])\n"
     ]
    }
   ],
   "source": [
    "my_array_range = list(range(10))\n",
    "my_array = array.array(\"d\", my_array_range)\n",
    "\n",
    "print(my_array)"
   ]
  },
  {
   "cell_type": "markdown",
   "metadata": {},
   "source": [
    "## Numpy Array\n"
   ]
  },
  {
   "attachments": {},
   "cell_type": "markdown",
   "metadata": {},
   "source": [
    "NumPy is the fundamental package for scientific computing in Python.  \n",
    "It is a Python library that provides a multidimensional array object,  \n",
    "various derived objects, and an assortment of routines for  \n",
    "fast operations on arrays.\n"
   ]
  },
  {
   "cell_type": "markdown",
   "metadata": {},
   "source": [
    "At the core of the NumPy package, is the ndarray object.  \n",
    "This encapsulates n-dimensional arrays of homogeneous data types,  \n",
    "with many operations being performed in compiled code for performance.\n"
   ]
  },
  {
   "cell_type": "code",
   "execution_count": 22,
   "metadata": {},
   "outputs": [],
   "source": [
    "def array_info(array: np.ndarray) -> None:\n",
    "    print(f\"ndim: {array.ndim}\")\n",
    "    print(f\"shape: {array.shape}\")\n",
    "    print(f\"size: {array.size}\")\n",
    "    print(f\"dtype: {array.dtype}\")\n",
    "    print(f\"values:\\n{array}\\n\")"
   ]
  },
  {
   "cell_type": "code",
   "execution_count": 23,
   "metadata": {
    "collapsed": false
   },
   "outputs": [
    {
     "name": "stdout",
     "output_type": "stream",
     "text": [
      "ndim: 1\n",
      "shape: (5,)\n",
      "size: 5\n",
      "dtype: int32\n",
      "values:\n",
      "[1 4 2 5 3]\n",
      "\n"
     ]
    }
   ],
   "source": [
    "my_np_array = np.array([1, 4, 2, 5, 3])\n",
    "array_info(my_np_array)"
   ]
  },
  {
   "cell_type": "code",
   "execution_count": 24,
   "metadata": {
    "collapsed": false
   },
   "outputs": [
    {
     "name": "stdout",
     "output_type": "stream",
     "text": [
      "ndim: 1\n",
      "shape: (4,)\n",
      "size: 4\n",
      "dtype: float64\n",
      "values:\n",
      "[3.14 4.   2.   3.  ]\n",
      "\n"
     ]
    }
   ],
   "source": [
    "my_np_array = np.array([math.pi, 4, 2, 3])\n",
    "array_info(my_np_array)"
   ]
  },
  {
   "cell_type": "code",
   "execution_count": 25,
   "metadata": {
    "collapsed": false
   },
   "outputs": [
    {
     "name": "stdout",
     "output_type": "stream",
     "text": [
      "ndim: 1\n",
      "shape: (4,)\n",
      "size: 4\n",
      "dtype: float32\n",
      "values:\n",
      "[1. 2. 3. 4.]\n",
      "\n"
     ]
    }
   ],
   "source": [
    "my_np_array = np.array(\n",
    "    [1, 2, 3, 4],\n",
    "    dtype=\"float32\",\n",
    ")\n",
    "array_info(my_np_array)"
   ]
  },
  {
   "cell_type": "markdown",
   "metadata": {},
   "source": [
    "## Intrinsic Arrays\n"
   ]
  },
  {
   "cell_type": "code",
   "execution_count": 26,
   "metadata": {
    "collapsed": false
   },
   "outputs": [
    {
     "name": "stdout",
     "output_type": "stream",
     "text": [
      "ndim: 1\n",
      "shape: (10,)\n",
      "size: 10\n",
      "dtype: int32\n",
      "values:\n",
      "[0 0 0 0 0 0 0 0 0 0]\n",
      "\n"
     ]
    }
   ],
   "source": [
    "my_np_array = np.zeros(\n",
    "    shape=(10),\n",
    "    dtype=int,\n",
    ")\n",
    "array_info(my_np_array)"
   ]
  },
  {
   "cell_type": "code",
   "execution_count": 27,
   "metadata": {
    "collapsed": false
   },
   "outputs": [
    {
     "name": "stdout",
     "output_type": "stream",
     "text": [
      "ndim: 2\n",
      "shape: (3, 5)\n",
      "size: 15\n",
      "dtype: float64\n",
      "values:\n",
      "[[1. 1. 1. 1. 1.]\n",
      " [1. 1. 1. 1. 1.]\n",
      " [1. 1. 1. 1. 1.]]\n",
      "\n"
     ]
    }
   ],
   "source": [
    "my_np_array = np.ones(\n",
    "    shape=(3, 5),\n",
    "    dtype=float,\n",
    ")\n",
    "array_info(my_np_array)"
   ]
  },
  {
   "cell_type": "code",
   "execution_count": 28,
   "metadata": {
    "collapsed": false
   },
   "outputs": [
    {
     "name": "stdout",
     "output_type": "stream",
     "text": [
      "ndim: 2\n",
      "shape: (3, 5)\n",
      "size: 15\n",
      "dtype: float64\n",
      "values:\n",
      "[[3.14 3.14 3.14 3.14 3.14]\n",
      " [3.14 3.14 3.14 3.14 3.14]\n",
      " [3.14 3.14 3.14 3.14 3.14]]\n",
      "\n"
     ]
    }
   ],
   "source": [
    "my_np_array = np.full(\n",
    "    shape=(3, 5),\n",
    "    fill_value=math.pi,\n",
    ")\n",
    "array_info(my_np_array)"
   ]
  },
  {
   "cell_type": "code",
   "execution_count": 29,
   "metadata": {
    "collapsed": false
   },
   "outputs": [
    {
     "name": "stdout",
     "output_type": "stream",
     "text": [
      "ndim: 1\n",
      "shape: (10,)\n",
      "size: 10\n",
      "dtype: int32\n",
      "values:\n",
      "[ 0  2  4  6  8 10 12 14 16 18]\n",
      "\n"
     ]
    }
   ],
   "source": [
    "my_np_array = np.arange(\n",
    "    start=0,\n",
    "    stop=20,\n",
    "    step=2,\n",
    ")\n",
    "array_info(my_np_array)"
   ]
  },
  {
   "cell_type": "code",
   "execution_count": 30,
   "metadata": {
    "collapsed": false
   },
   "outputs": [
    {
     "name": "stdout",
     "output_type": "stream",
     "text": [
      "ndim: 1\n",
      "shape: (5,)\n",
      "size: 5\n",
      "dtype: float64\n",
      "values:\n",
      "[0.   0.25 0.5  0.75 1.  ]\n",
      "\n"
     ]
    }
   ],
   "source": [
    "my_np_array = np.linspace(\n",
    "    start=0,\n",
    "    stop=1,\n",
    "    num=5,\n",
    ")\n",
    "array_info(my_np_array)"
   ]
  },
  {
   "cell_type": "code",
   "execution_count": 31,
   "metadata": {
    "collapsed": false
   },
   "outputs": [
    {
     "name": "stdout",
     "output_type": "stream",
     "text": [
      "ndim: 2\n",
      "shape: (3, 3)\n",
      "size: 9\n",
      "dtype: float64\n",
      "values:\n",
      "[[1. 0. 0.]\n",
      " [0. 1. 0.]\n",
      " [0. 0. 1.]]\n",
      "\n"
     ]
    }
   ],
   "source": [
    "my_np_array = np.eye(N=3)\n",
    "array_info(my_np_array)"
   ]
  },
  {
   "cell_type": "code",
   "execution_count": 32,
   "metadata": {},
   "outputs": [
    {
     "name": "stdout",
     "output_type": "stream",
     "text": [
      "ndim: 2\n",
      "shape: (3, 3)\n",
      "size: 9\n",
      "dtype: int32\n",
      "values:\n",
      "[[1 0 0]\n",
      " [0 2 0]\n",
      " [0 0 3]]\n",
      "\n"
     ]
    }
   ],
   "source": [
    "my_np_array = np.diag([1, 2, 3])\n",
    "array_info(my_np_array)"
   ]
  },
  {
   "cell_type": "markdown",
   "metadata": {},
   "source": [
    "## Random Functions\n"
   ]
  },
  {
   "cell_type": "code",
   "execution_count": 33,
   "metadata": {
    "collapsed": false
   },
   "outputs": [
    {
     "name": "stdout",
     "output_type": "stream",
     "text": [
      "ndim: 2\n",
      "shape: (3, 3)\n",
      "size: 9\n",
      "dtype: int32\n",
      "values:\n",
      "[[5 8 0]\n",
      " [1 9 8]\n",
      " [4 8 9]]\n",
      "\n"
     ]
    }
   ],
   "source": [
    "my_np_array = np.random.randint(\n",
    "    low=0,\n",
    "    high=10,\n",
    "    size=(3, 3),\n",
    ")\n",
    "array_info(my_np_array)"
   ]
  },
  {
   "cell_type": "code",
   "execution_count": 34,
   "metadata": {
    "collapsed": false
   },
   "outputs": [
    {
     "name": "stdout",
     "output_type": "stream",
     "text": [
      "ndim: 2\n",
      "shape: (3, 3)\n",
      "size: 9\n",
      "dtype: float64\n",
      "values:\n",
      "[[0.34071757 0.00690016 0.58010459]\n",
      " [0.35968366 0.68196263 0.42292958]\n",
      " [0.10317473 0.13449656 0.66694264]]\n",
      "\n"
     ]
    }
   ],
   "source": [
    "my_np_array = np.random.random(size=(3, 3))\n",
    "array_info(my_np_array)"
   ]
  }
 ],
 "metadata": {
  "anaconda-cloud": {},
  "kernelspec": {
   "display_name": "pyData",
   "language": "python",
   "name": "python3"
  },
  "language_info": {
   "codemirror_mode": {
    "name": "ipython",
    "version": 3
   },
   "file_extension": ".py",
   "mimetype": "text/x-python",
   "name": "python",
   "nbconvert_exporter": "python",
   "pygments_lexer": "ipython3",
   "version": "3.11.5"
  },
  "metadata": {
   "interpreter": {
    "hash": "423c48e3256333a0e0252f1efeec30283ab6ba0213e3a05c32b0541c29f89950"
   }
  },
  "vscode": {
   "interpreter": {
    "hash": "f7005c152070cabaaf593843feaa8c4a4a04ad569523413e5d5955ceb49c894d"
   }
  }
 },
 "nbformat": 4,
 "nbformat_minor": 0
}
