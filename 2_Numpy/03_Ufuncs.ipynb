{
 "cells": [
  {
   "cell_type": "code",
   "execution_count": 1,
   "metadata": {},
   "outputs": [],
   "source": [
    "from collections.abc import Iterable\n",
    "\n",
    "import numpy as np"
   ]
  },
  {
   "attachments": {},
   "cell_type": "markdown",
   "metadata": {},
   "source": [
    "# Numpy ufuncs\n"
   ]
  },
  {
   "attachments": {},
   "cell_type": "markdown",
   "metadata": {},
   "source": [
    "A universal function is a function:\n",
    "\n",
    "-   that operates on ndarrays in an element-by-element fashion\n",
    "\n",
    "A ufunc is a “vectorized” wrapper for a function that takes  \n",
    "a fixed number of specific inputs and produces a fixed number of specific outputs.\n"
   ]
  },
  {
   "cell_type": "code",
   "execution_count": 2,
   "metadata": {},
   "outputs": [],
   "source": [
    "np.random.seed(0)"
   ]
  },
  {
   "attachments": {},
   "cell_type": "markdown",
   "metadata": {},
   "source": [
    "## Native Python Loops\n"
   ]
  },
  {
   "cell_type": "code",
   "execution_count": 3,
   "metadata": {},
   "outputs": [],
   "source": [
    "def reciprocal(\n",
    "    values: Iterable[float],\n",
    ") -> Iterable[float]:\n",
    "    output = np.empty(len(values))\n",
    "    for i in range(len(values)):\n",
    "        output[i] = 1.0 / values[i]\n",
    "    return output"
   ]
  },
  {
   "cell_type": "code",
   "execution_count": 4,
   "metadata": {},
   "outputs": [
    {
     "name": "stdout",
     "output_type": "stream",
     "text": [
      "[0.16666667 1.         0.25       0.25       0.125     ]\n"
     ]
    }
   ],
   "source": [
    "small_array = np.random.randint(\n",
    "    low=1,\n",
    "    high=10,\n",
    "    size=5,\n",
    ")\n",
    "print(reciprocal(small_array))"
   ]
  },
  {
   "attachments": {},
   "cell_type": "markdown",
   "metadata": {},
   "source": [
    "| Fraction (sec) | Unit       | Symbol | Definition              | Comparative examples & common units        |\n",
    "| -------------- | ---------- | ------ | ----------------------- | ------------------------------------------ |\n",
    "| $10^{−9}$      | 1 nanosec  | ns     | One billionth of a sec  | One machine cycle by a 1 GHz processor 1ns |\n",
    "| $10^{−6}$      | 1 microsec | µs     | One millionth of a sec  | One machine cycle by an Intel 80186 2.2 µs |\n",
    "| $10^{−3}$      | 1 millisec | ms     | One thousandth of a sec | Human brain to fire one impulse 4–8 ms     |\n"
   ]
  },
  {
   "cell_type": "code",
   "execution_count": 5,
   "metadata": {
    "collapsed": false
   },
   "outputs": [
    {
     "name": "stdout",
     "output_type": "stream",
     "text": [
      "6.66 µs ± 770 ns per loop (mean ± std. dev. of 7 runs, 100,000 loops each)\n"
     ]
    }
   ],
   "source": [
    "small_array = np.random.randint(\n",
    "    low=1,\n",
    "    high=10,\n",
    "    size=5,\n",
    ")\n",
    "\n",
    "%timeit reciprocal(small_array)"
   ]
  },
  {
   "cell_type": "code",
   "execution_count": 6,
   "metadata": {
    "collapsed": false
   },
   "outputs": [
    {
     "name": "stdout",
     "output_type": "stream",
     "text": [
      "116 ms ± 4.6 ms per loop (mean ± std. dev. of 7 runs, 10 loops each)\n"
     ]
    }
   ],
   "source": [
    "big_array = np.random.randint(\n",
    "    low=1,\n",
    "    high=10,\n",
    "    size=100_000,\n",
    ")\n",
    "\n",
    "%timeit reciprocal(big_array)"
   ]
  },
  {
   "cell_type": "code",
   "execution_count": 7,
   "metadata": {},
   "outputs": [
    {
     "data": {
      "text/plain": [
       "16949.15254237288"
      ]
     },
     "execution_count": 7,
     "metadata": {},
     "output_type": "execute_result"
    }
   ],
   "source": [
    "200 * 1000 / 11.8"
   ]
  },
  {
   "attachments": {},
   "cell_type": "markdown",
   "metadata": {},
   "source": [
    "## Introducing UFuncs\n"
   ]
  },
  {
   "cell_type": "code",
   "execution_count": 8,
   "metadata": {
    "collapsed": false
   },
   "outputs": [
    {
     "name": "stdout",
     "output_type": "stream",
     "text": [
      "[0.25       0.16666667 0.33333333 0.2        0.125     ]\n",
      "[0.25       0.16666667 0.33333333 0.2        0.125     ]\n"
     ]
    }
   ],
   "source": [
    "print(reciprocal(small_array))\n",
    "print(1.0 / small_array)"
   ]
  },
  {
   "cell_type": "code",
   "execution_count": 9,
   "metadata": {
    "collapsed": false
   },
   "outputs": [
    {
     "name": "stdout",
     "output_type": "stream",
     "text": [
      "82.3 µs ± 274 ns per loop (mean ± std. dev. of 7 runs, 10,000 loops each)\n"
     ]
    }
   ],
   "source": [
    "%timeit (1.0 / big_array)"
   ]
  },
  {
   "cell_type": "code",
   "execution_count": 10,
   "metadata": {},
   "outputs": [
    {
     "name": "stdout",
     "output_type": "stream",
     "text": [
      "86.9 µs ± 324 ns per loop (mean ± std. dev. of 7 runs, 10,000 loops each)\n"
     ]
    }
   ],
   "source": [
    "%timeit np.reciprocal(big_array)"
   ]
  },
  {
   "cell_type": "code",
   "execution_count": 11,
   "metadata": {},
   "outputs": [
    {
     "data": {
      "text/plain": [
       "1941.7475728155339"
      ]
     },
     "execution_count": 11,
     "metadata": {},
     "output_type": "execute_result"
    }
   ],
   "source": [
    "200 * 1000 / 103  # Speedup"
   ]
  },
  {
   "cell_type": "code",
   "execution_count": 12,
   "metadata": {
    "collapsed": false
   },
   "outputs": [
    {
     "name": "stdout",
     "output_type": "stream",
     "text": [
      "[0 1 2 3]\n"
     ]
    }
   ],
   "source": [
    "x = np.arange(4)\n",
    "\n",
    "print(x)"
   ]
  },
  {
   "cell_type": "code",
   "execution_count": 13,
   "metadata": {},
   "outputs": [
    {
     "name": "stdout",
     "output_type": "stream",
     "text": [
      "[2 3 4 5]\n",
      "[-2 -1  0  1]\n",
      "[0 2 4 6]\n",
      "[0.  0.5 1.  1.5]\n"
     ]
    }
   ],
   "source": [
    "print(x + 2)\n",
    "print(x - 2)\n",
    "print(x * 2)\n",
    "print(x / 2)"
   ]
  },
  {
   "cell_type": "code",
   "execution_count": 14,
   "metadata": {},
   "outputs": [
    {
     "name": "stdout",
     "output_type": "stream",
     "text": [
      "[2. 3. 4. 5.]\n",
      "[-2. -1.  0.  1.]\n",
      "[0. 2. 4. 6.]\n",
      "[0.  0.5 1.  1.5]\n"
     ]
    }
   ],
   "source": [
    "print(x + 2.0)\n",
    "print(x - 2.0)\n",
    "print(x * 2.0)\n",
    "print(x / 2.0)"
   ]
  },
  {
   "cell_type": "code",
   "execution_count": 15,
   "metadata": {
    "collapsed": false
   },
   "outputs": [
    {
     "name": "stdout",
     "output_type": "stream",
     "text": [
      "[2 3 4 5]\n"
     ]
    }
   ],
   "source": [
    "print(np.add(x, 2))"
   ]
  },
  {
   "attachments": {},
   "cell_type": "markdown",
   "metadata": {},
   "source": [
    "| Name       | Description                                                   |\n",
    "| ---------- | ------------------------------------------------------------- |\n",
    "| add        | Adds, element-wise                                            |\n",
    "| subtract   | Subtracts, element-wise                                       |\n",
    "| multiply   | Multiplies, element-wise                                      |\n",
    "| matmul     | Matrix product of two arrays                                  |\n",
    "| divide     | Returns a true division of the inputs, element-wise           |\n",
    "| negative   | Numerical negative, element-wise                              |\n",
    "| positive   | Numerical positive, element-wise                              |\n",
    "| mod        | Return, element-wise remainder of division                    |\n",
    "| absolute   | Calculate the absolute value, element-wise                    |\n",
    "| fabs       | Compute the absolute values, element-wise                     |\n",
    "| sign       | Returns an, element-wise indication of the sign of a number   |\n",
    "| exp        | Calculate the exponential of all elements in the input array  |\n",
    "| log        | Natural logarithm, element-wise                               |\n",
    "| sqrt       | Return the non-negative square-root of an array, element-wise |\n",
    "| square     | Return the, element-wise square of the input                  |\n",
    "| reciprocal | Return the reciprocal of the argument, element-wise           |\n",
    "| gcd        | Returns the greatest common divisor of \\|x1\\| and \\|x2\\|      |\n",
    "| lcm        | Returns the lowest common multiple of \\|x1\\| and \\|x2\\|       |\n"
   ]
  },
  {
   "cell_type": "code",
   "execution_count": 16,
   "metadata": {
    "collapsed": false
   },
   "outputs": [
    {
     "data": {
      "text/plain": [
       "array([2, 1, 0, 1, 2])"
      ]
     },
     "execution_count": 16,
     "metadata": {},
     "output_type": "execute_result"
    }
   ],
   "source": [
    "x = np.array([-2, -1, 0, 1, 2])\n",
    "abs(x)"
   ]
  },
  {
   "cell_type": "code",
   "execution_count": 17,
   "metadata": {
    "collapsed": false
   },
   "outputs": [
    {
     "name": "stdout",
     "output_type": "stream",
     "text": [
      "[2 1 0 1 2]\n"
     ]
    }
   ],
   "source": [
    "print(np.abs(x))"
   ]
  },
  {
   "cell_type": "code",
   "execution_count": 18,
   "metadata": {},
   "outputs": [
    {
     "name": "stdout",
     "output_type": "stream",
     "text": [
      "[2. 1. 0. 1. 2.]\n"
     ]
    }
   ],
   "source": [
    "print(np.fabs(x))"
   ]
  },
  {
   "cell_type": "code",
   "execution_count": 19,
   "metadata": {},
   "outputs": [
    {
     "name": "stdout",
     "output_type": "stream",
     "text": [
      "[2. 1. 0. 1. 2.]\n",
      "[2. 1. 0. 1. 2.]\n"
     ]
    }
   ],
   "source": [
    "x = np.array(\n",
    "    [-2, -1, 0, 1, 2],\n",
    "    dtype=np.float32,\n",
    ")\n",
    "\n",
    "print(np.abs(x))\n",
    "print(np.fabs(x))"
   ]
  },
  {
   "attachments": {},
   "cell_type": "markdown",
   "metadata": {},
   "source": [
    "### Trigonometric functions\n"
   ]
  },
  {
   "attachments": {},
   "cell_type": "markdown",
   "metadata": {},
   "source": [
    "| Name | Description                      |\n",
    "| ---- | -------------------------------- |\n",
    "| sin  | Trigonometric sine, element-wise |\n",
    "| cos  | Cosine, element-wise             |\n",
    "| tan  | Compute tangent, element-wise    |\n"
   ]
  },
  {
   "cell_type": "code",
   "execution_count": 20,
   "metadata": {
    "collapsed": false
   },
   "outputs": [
    {
     "name": "stdout",
     "output_type": "stream",
     "text": [
      "[0.         1.04719755 2.0943951  3.14159265 4.1887902  5.23598776\n",
      " 6.28318531]\n"
     ]
    }
   ],
   "source": [
    "theta = np.linspace(\n",
    "    start=0.0,\n",
    "    stop=2.0 * np.pi,\n",
    "    num=7,\n",
    ")\n",
    "\n",
    "print(theta)"
   ]
  },
  {
   "cell_type": "code",
   "execution_count": 21,
   "metadata": {
    "collapsed": false
   },
   "outputs": [
    {
     "name": "stdout",
     "output_type": "stream",
     "text": [
      "[ 0.00000000e+00  8.66025404e-01  8.66025404e-01  1.22464680e-16\n",
      " -8.66025404e-01 -8.66025404e-01 -2.44929360e-16]\n",
      "[ 1.   0.5 -0.5 -1.  -0.5  0.5  1. ]\n"
     ]
    }
   ],
   "source": [
    "print(np.sin(theta))\n",
    "print(np.cos(theta))"
   ]
  },
  {
   "attachments": {},
   "cell_type": "markdown",
   "metadata": {},
   "source": [
    "### Bit-twiddling functions\n"
   ]
  },
  {
   "attachments": {},
   "cell_type": "markdown",
   "metadata": {},
   "source": [
    "| Name        | Description                                          |\n",
    "| ----------- | ---------------------------------------------------- |\n",
    "| bitwise_and | Compute the bit-wise AND of two arrays, element-wise |\n",
    "| bitwise_or  | Compute the bit-wise OR of two arrays, element-wise  |\n",
    "| bitwise_xor | Compute the bit-wise XOR of two arrays, element-wise |\n"
   ]
  },
  {
   "cell_type": "code",
   "execution_count": 25,
   "metadata": {},
   "outputs": [
    {
     "data": {
      "text/plain": [
       "12"
      ]
     },
     "execution_count": 25,
     "metadata": {},
     "output_type": "execute_result"
    }
   ],
   "source": [
    "np.bitwise_and(14, 13)"
   ]
  },
  {
   "cell_type": "code",
   "execution_count": 26,
   "metadata": {},
   "outputs": [
    {
     "data": {
      "text/plain": [
       "'1100'"
      ]
     },
     "execution_count": 26,
     "metadata": {},
     "output_type": "execute_result"
    }
   ],
   "source": [
    "np.binary_repr(12)"
   ]
  },
  {
   "cell_type": "code",
   "execution_count": 27,
   "metadata": {},
   "outputs": [
    {
     "data": {
      "text/plain": [
       "array([12,  1], dtype=int32)"
      ]
     },
     "execution_count": 27,
     "metadata": {},
     "output_type": "execute_result"
    }
   ],
   "source": [
    "np.bitwise_and([14, 3], 13)"
   ]
  },
  {
   "attachments": {},
   "cell_type": "markdown",
   "metadata": {},
   "source": [
    "### Comparison functions\n"
   ]
  },
  {
   "attachments": {},
   "cell_type": "markdown",
   "metadata": {},
   "source": [
    "| Name          | Description                                        |\n",
    "| ------------- | -------------------------------------------------- |\n",
    "| greater       | Return the truth value of (x1 > x2), element-wise  |\n",
    "| greater_equal | Return the truth value of (x1 >= x2), element-wise |\n",
    "| less          | Return the truth value of (x1 < x2), element-wise  |\n",
    "| less_equal    | Return the truth value of (x1 <= x2), element-wise |\n",
    "| not_equal     | Return (x1 != x2), element-wise                    |\n",
    "| equal         | Return (x1 == x2), element-wise                    |\n"
   ]
  },
  {
   "cell_type": "code",
   "execution_count": 23,
   "metadata": {},
   "outputs": [
    {
     "name": "stdout",
     "output_type": "stream",
     "text": [
      "[ True False]\n"
     ]
    }
   ],
   "source": [
    "print(np.greater([4, 2], [2, 2]))"
   ]
  },
  {
   "cell_type": "code",
   "execution_count": 24,
   "metadata": {},
   "outputs": [
    {
     "name": "stdout",
     "output_type": "stream",
     "text": [
      "[ True False]\n"
     ]
    }
   ],
   "source": [
    "a = np.array([4, 2])\n",
    "b = np.array([2, 2])\n",
    "\n",
    "print(a > b)"
   ]
  }
 ],
 "metadata": {
  "anaconda-cloud": {},
  "kernelspec": {
   "display_name": "pyData",
   "language": "python",
   "name": "python3"
  },
  "language_info": {
   "codemirror_mode": {
    "name": "ipython",
    "version": 3
   },
   "file_extension": ".py",
   "mimetype": "text/x-python",
   "name": "python",
   "nbconvert_exporter": "python",
   "pygments_lexer": "ipython3",
   "version": "3.11.5"
  },
  "vscode": {
   "interpreter": {
    "hash": "f7005c152070cabaaf593843feaa8c4a4a04ad569523413e5d5955ceb49c894d"
   }
  }
 },
 "nbformat": 4,
 "nbformat_minor": 0
}
