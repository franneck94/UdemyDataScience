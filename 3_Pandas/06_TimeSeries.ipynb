{
 "cells": [
  {
   "cell_type": "code",
   "execution_count": 1,
   "metadata": {},
   "outputs": [],
   "source": [
    "import datetime\n",
    "\n",
    "import numpy as np\n",
    "import pandas as pd"
   ]
  },
  {
   "cell_type": "markdown",
   "metadata": {},
   "source": [
    "# Time Series in Pandas\n"
   ]
  },
  {
   "cell_type": "code",
   "execution_count": 2,
   "metadata": {},
   "outputs": [],
   "source": [
    "np.random.seed(0)"
   ]
  },
  {
   "cell_type": "code",
   "execution_count": 3,
   "metadata": {},
   "outputs": [],
   "source": [
    "def series_info(series: pd.Series) -> None:\n",
    "    print(f\"ndim: {series.ndim}\")\n",
    "    print(f\"shape: {series.shape}\")\n",
    "    print(f\"size: {series.size}\")\n",
    "    print(f\"dtype: {series.dtype}\")\n",
    "    print(f\"values:\\n{series}\\n\")"
   ]
  },
  {
   "cell_type": "code",
   "execution_count": 4,
   "metadata": {},
   "outputs": [],
   "source": [
    "def df_info(df: pd.DataFrame) -> None:\n",
    "    print(f\"ndim: {df.ndim}\")\n",
    "    print(f\"shape: {df.shape}\")\n",
    "    print(f\"size: {df.size}\")\n",
    "    print(f\"dtype: {df.dtypes}\")\n",
    "    print(f\"values:\\n{df}\\n\")"
   ]
  },
  {
   "attachments": {},
   "cell_type": "markdown",
   "metadata": {},
   "source": [
    "| Concept     | Scalar Class | pandas Data Type  | Primary Creation Method         |\n",
    "| ----------- | ------------ | ----------------- | ------------------------------- |\n",
    "| Date times  | Timestamp    | datetime64\\[ns\\]  | to_datetime or date_range       |\n",
    "| Time deltas | Timedelta    | timedelta64\\[ns\\] | to_timedelta or timedelta_range |\n",
    "| Time spans  | Period       | period\\[freq\\]    | Period or period_range          |\n"
   ]
  },
  {
   "cell_type": "code",
   "execution_count": 5,
   "metadata": {},
   "outputs": [],
   "source": [
    "ds = pd.date_range(\n",
    "    \"21/4/2021\",\n",
    "    periods=3,\n",
    "    freq=\"H\",\n",
    ")"
   ]
  },
  {
   "cell_type": "code",
   "execution_count": 6,
   "metadata": {},
   "outputs": [
    {
     "name": "stdout",
     "output_type": "stream",
     "text": [
      "ndim: 1\n",
      "shape: (3,)\n",
      "size: 3\n",
      "dtype: datetime64[ns]\n",
      "values:\n",
      "DatetimeIndex(['2021-04-21 00:00:00', '2021-04-21 01:00:00',\n",
      "               '2021-04-21 02:00:00'],\n",
      "              dtype='datetime64[ns]', freq='H')\n",
      "\n"
     ]
    }
   ],
   "source": [
    "series_info(ds)"
   ]
  },
  {
   "cell_type": "code",
   "execution_count": 7,
   "metadata": {},
   "outputs": [
    {
     "name": "stdout",
     "output_type": "stream",
     "text": [
      "ndim: 1\n",
      "shape: (3,)\n",
      "size: 3\n",
      "dtype: datetime64[ns, UTC]\n",
      "values:\n",
      "DatetimeIndex(['2021-04-21 00:00:00+00:00', '2021-04-21 01:00:00+00:00',\n",
      "               '2021-04-21 02:00:00+00:00'],\n",
      "              dtype='datetime64[ns, UTC]', freq='H')\n",
      "\n"
     ]
    }
   ],
   "source": [
    "series_info(ds.tz_localize(\"UTC\"))"
   ]
  },
  {
   "cell_type": "code",
   "execution_count": 8,
   "metadata": {},
   "outputs": [
    {
     "name": "stdout",
     "output_type": "stream",
     "text": [
      "2018-01-05 12:00:00+01:00\n"
     ]
    }
   ],
   "source": [
    "friday = pd.Timestamp(\"2018-01-05 12:00:00\").tz_localize(\"Europe/Berlin\")\n",
    "\n",
    "print(friday)"
   ]
  },
  {
   "cell_type": "code",
   "execution_count": 9,
   "metadata": {},
   "outputs": [
    {
     "name": "stdout",
     "output_type": "stream",
     "text": [
      "2018-01-06 12:00:00+01:00\n"
     ]
    }
   ],
   "source": [
    "saturday = friday + pd.Timedelta(\"1 day\")\n",
    "\n",
    "print(saturday)"
   ]
  },
  {
   "cell_type": "code",
   "execution_count": 10,
   "metadata": {},
   "outputs": [],
   "source": [
    "num_samples = 100"
   ]
  },
  {
   "cell_type": "code",
   "execution_count": null,
   "metadata": {},
   "outputs": [],
   "source": [
    "dates = pd.date_range(\n",
    "    \"21/4/2021\",\n",
    "    periods=num_samples,\n",
    ")"
   ]
  },
  {
   "cell_type": "code",
   "execution_count": null,
   "metadata": {},
   "outputs": [],
   "source": [
    "df = pd.DataFrame(\n",
    "    {\n",
    "        \"Date\": dates,\n",
    "        \"Value\": np.random.randn(num_samples),\n",
    "    }\n",
    ")"
   ]
  },
  {
   "cell_type": "code",
   "execution_count": 11,
   "metadata": {},
   "outputs": [
    {
     "name": "stdout",
     "output_type": "stream",
     "text": [
      "ndim: 2\n",
      "shape: (100, 2)\n",
      "size: 200\n",
      "dtype: Date     datetime64[ns]\n",
      "Value           float64\n",
      "dtype: object\n",
      "values:\n",
      "         Date     Value\n",
      "0  2021-04-21  1.764052\n",
      "1  2021-04-22  0.400157\n",
      "2  2021-04-23  0.978738\n",
      "3  2021-04-24  2.240893\n",
      "4  2021-04-25  1.867558\n",
      "..        ...       ...\n",
      "95 2021-07-25  0.706573\n",
      "96 2021-07-26  0.010500\n",
      "97 2021-07-27  1.785870\n",
      "98 2021-07-28  0.126912\n",
      "99 2021-07-29  0.401989\n",
      "\n",
      "[100 rows x 2 columns]\n",
      "\n"
     ]
    }
   ],
   "source": [
    "df_info(df)"
   ]
  },
  {
   "cell_type": "code",
   "execution_count": 12,
   "metadata": {},
   "outputs": [
    {
     "data": {
      "text/plain": [
       "Period('2021-05', 'M')"
      ]
     },
     "execution_count": 12,
     "metadata": {},
     "output_type": "execute_result"
    }
   ],
   "source": [
    "pd.Period(\"2021-05\")"
   ]
  },
  {
   "cell_type": "code",
   "execution_count": 13,
   "metadata": {},
   "outputs": [
    {
     "data": {
      "text/plain": [
       "Period('2021-05-01', 'D')"
      ]
     },
     "execution_count": 13,
     "metadata": {},
     "output_type": "execute_result"
    }
   ],
   "source": [
    "pd.Period(\"2021-05\", freq=\"D\")"
   ]
  },
  {
   "cell_type": "code",
   "execution_count": 14,
   "metadata": {},
   "outputs": [],
   "source": [
    "dates = [\n",
    "    pd.Timestamp(\"2021-05-01\"),\n",
    "    pd.Timestamp(\"2021-05-02\"),\n",
    "    pd.Timestamp(\"2021-05-04\"),\n",
    "]"
   ]
  },
  {
   "cell_type": "code",
   "execution_count": null,
   "metadata": {},
   "outputs": [],
   "source": [
    "ts = pd.Series(\n",
    "    np.random.randn(3),\n",
    "    dates,\n",
    ")"
   ]
  },
  {
   "cell_type": "code",
   "execution_count": 15,
   "metadata": {},
   "outputs": [
    {
     "name": "stdout",
     "output_type": "stream",
     "text": [
      "ndim: 1\n",
      "shape: (3,)\n",
      "size: 3\n",
      "dtype: float64\n",
      "values:\n",
      "2021-05-01    1.883151\n",
      "2021-05-02   -1.347759\n",
      "2021-05-04   -1.270485\n",
      "dtype: float64\n",
      "\n"
     ]
    }
   ],
   "source": [
    "series_info(ts)"
   ]
  },
  {
   "cell_type": "code",
   "execution_count": 16,
   "metadata": {},
   "outputs": [
    {
     "name": "stdout",
     "output_type": "stream",
     "text": [
      "ndim: 1\n",
      "shape: (31,)\n",
      "size: 31\n",
      "dtype: datetime64[ns]\n",
      "values:\n",
      "DatetimeIndex(['2021-05-01', '2021-05-02', '2021-05-03', '2021-05-04',\n",
      "               '2021-05-05', '2021-05-06', '2021-05-07', '2021-05-08',\n",
      "               '2021-05-09', '2021-05-10', '2021-05-11', '2021-05-12',\n",
      "               '2021-05-13', '2021-05-14', '2021-05-15', '2021-05-16',\n",
      "               '2021-05-17', '2021-05-18', '2021-05-19', '2021-05-20',\n",
      "               '2021-05-21', '2021-05-22', '2021-05-23', '2021-05-24',\n",
      "               '2021-05-25', '2021-05-26', '2021-05-27', '2021-05-28',\n",
      "               '2021-05-29', '2021-05-30', '2021-05-31'],\n",
      "              dtype='datetime64[ns]', freq='D')\n",
      "\n"
     ]
    }
   ],
   "source": [
    "start = datetime.datetime(2021, 5, 1)\n",
    "end = datetime.datetime(2021, 5, 31)"
   ]
  },
  {
   "cell_type": "code",
   "execution_count": null,
   "metadata": {},
   "outputs": [],
   "source": [
    "index = pd.date_range(start, end)\n",
    "\n",
    "series_info(index)"
   ]
  },
  {
   "cell_type": "code",
   "execution_count": 17,
   "metadata": {},
   "outputs": [
    {
     "name": "stdout",
     "output_type": "stream",
     "text": [
      "ndim: 1\n",
      "shape: (31,)\n",
      "size: 31\n",
      "dtype: datetime64[ns]\n",
      "values:\n",
      "DatetimeIndex(['2021-05-01', '2021-05-02', '2021-05-03', '2021-05-04',\n",
      "               '2021-05-05', '2021-05-06', '2021-05-07', '2021-05-08',\n",
      "               '2021-05-09', '2021-05-10', '2021-05-11', '2021-05-12',\n",
      "               '2021-05-13', '2021-05-14', '2021-05-15', '2021-05-16',\n",
      "               '2021-05-17', '2021-05-18', '2021-05-19', '2021-05-20',\n",
      "               '2021-05-21', '2021-05-22', '2021-05-23', '2021-05-24',\n",
      "               '2021-05-25', '2021-05-26', '2021-05-27', '2021-05-28',\n",
      "               '2021-05-29', '2021-05-30', '2021-05-31'],\n",
      "              dtype='datetime64[ns]', freq='D')\n",
      "\n"
     ]
    }
   ],
   "source": [
    "series_info(\n",
    "    pd.date_range(\n",
    "        start,\n",
    "        end,\n",
    "        freq=\"D\",\n",
    "    )\n",
    ")"
   ]
  },
  {
   "cell_type": "code",
   "execution_count": 18,
   "metadata": {},
   "outputs": [
    {
     "name": "stdout",
     "output_type": "stream",
     "text": [
      "ndim: 1\n",
      "shape: (31,)\n",
      "size: 31\n",
      "dtype: datetime64[ns]\n",
      "values:\n",
      "DatetimeIndex(['2021-05-01', '2021-05-02', '2021-05-03', '2021-05-04',\n",
      "               '2021-05-05', '2021-05-06', '2021-05-07', '2021-05-08',\n",
      "               '2021-05-09', '2021-05-10', '2021-05-11', '2021-05-12',\n",
      "               '2021-05-13', '2021-05-14', '2021-05-15', '2021-05-16',\n",
      "               '2021-05-17', '2021-05-18', '2021-05-19', '2021-05-20',\n",
      "               '2021-05-21', '2021-05-22', '2021-05-23', '2021-05-24',\n",
      "               '2021-05-25', '2021-05-26', '2021-05-27', '2021-05-28',\n",
      "               '2021-05-29', '2021-05-30', '2021-05-31'],\n",
      "              dtype='datetime64[ns]', freq='D')\n",
      "\n"
     ]
    }
   ],
   "source": [
    "series_info(\n",
    "    pd.date_range(\n",
    "        \"2021-05-01\",\n",
    "        \"2021-05-31\",\n",
    "        freq=\"D\",\n",
    "    )\n",
    ")"
   ]
  }
 ],
 "metadata": {
  "kernelspec": {
   "display_name": "pyData",
   "language": "python",
   "name": "python3"
  },
  "language_info": {
   "codemirror_mode": {
    "name": "ipython",
    "version": 3
   },
   "file_extension": ".py",
   "mimetype": "text/x-python",
   "name": "python",
   "nbconvert_exporter": "python",
   "pygments_lexer": "ipython3",
   "version": "3.11.5"
  },
  "metadata": {
   "interpreter": {
    "hash": "522fdde40ba75a445b4c7d16655156023622a06d0cbc06ae1181d92925378299"
   }
  },
  "orig_nbformat": 2,
  "vscode": {
   "interpreter": {
    "hash": "f7005c152070cabaaf593843feaa8c4a4a04ad569523413e5d5955ceb49c894d"
   }
  }
 },
 "nbformat": 4,
 "nbformat_minor": 2
}
